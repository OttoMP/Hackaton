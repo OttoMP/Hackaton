{
 "cells": [
  {
   "cell_type": "code",
   "execution_count": null,
   "id": "8c275cda-f9b9-4263-a672-55d3b8383f28",
   "metadata": {},
   "outputs": [],
   "source": [
    "!pip install pennylane"
   ]
  },
  {
   "cell_type": "code",
   "execution_count": 1,
   "id": "20a2c819-bead-48ba-b0ac-8fd555718011",
   "metadata": {},
   "outputs": [],
   "source": [
    "import pennylane as qml\n",
    "from pennylane import numpy as np"
   ]
  },
  {
   "cell_type": "markdown",
   "id": "bd766adf-7ad1-4b28-8aaa-e1371b022b1b",
   "metadata": {},
   "source": [
    "# Introduction to Applications of Quantum Computing to Quantum Chemistry"
   ]
  },
  {
   "cell_type": "markdown",
   "id": "92ce3511-ab3e-479a-aafb-5ffff4e6507d",
   "metadata": {},
   "source": [
    "## Exercise 1\n",
    "\n",
    "Consider the following Hamiltonian $$K = \\frac{1}{3} \\sum_{i<j}X_i X_j - \\sum_{i=0}^{n-1}Z_i,$$ where n is the number of qubits (or wires, in Pennylane language), $X_i$ and $Z_i$ are the\n",
    "Pauli-X and Pauli-Z operators acting on the i-th qubit, respectively, and $\\sum_{i<j}$ denotes a sum over all pairs (i, j) where i < j. For example, for n = 3, the pairs that contribute to\n",
    "the sum over i < j are (0, 1) , (0, 2) and (1, 2). Note that indexing starts from 0.\n",
    "\n",
    "You must implement in Pennylane a function that simulates a quantum circuit where the qubits start in the state |0⟩ and a Hadamard gate H is applied to all of them, producing a final state |ψ⟩.\n",
    "\n",
    "The function must receive the number of qubits and return the expectation value of K for |ψ⟩."
   ]
  },
  {
   "cell_type": "markdown",
   "id": "febe9ff9-0f03-4f86-9826-f77469e4db97",
   "metadata": {},
   "source": [
    "First we create a function to generate the expected hamiltonian K"
   ]
  },
  {
   "cell_type": "code",
   "execution_count": 2,
   "id": "4d38154f-f787-4fee-a93c-3d22a9baf6b6",
   "metadata": {},
   "outputs": [],
   "source": [
    "def hamiltonian(n_qubits):\n",
    "    # We create a list of coefficients. As defined by the hamiltonian K\n",
    "    # we need two types of coefficients, 1/3 for the operatos XX and -1 for the operator Z.\n",
    "    # We then define two different lists and concatenate them using the '+' operator from Python.\n",
    "    # there is a total of (n_qubits-1) * (n_qubits/2) coefficients with value 1/3 and\n",
    "    # n_qubits operators with value -1.\n",
    "    coeffs = ([1/3]*((n_qubits-1)*n_qubits//2)) + ([-1]*n_qubits)\n",
    "    \n",
    "    # Pennylane allows to describe the Hamiltonian as a sum of operators. We generate the observable XX using\n",
    "    # the operator '@'. The observable Z can be obtained directly from Pennylane.\n",
    "    obs = [qml.X(i) @ qml.X(j) for i in range(n_qubits) for j in range(i+1, n_qubits)] + [qml.Z(i) for i in range(n_qubits)]\n",
    "    \n",
    "    # We finally generate the Hamiltonian with the Pennylane built-in function.\n",
    "    return qml.Hamiltonian(coeffs, obs)"
   ]
  },
  {
   "cell_type": "markdown",
   "id": "633d6a7e-25fb-4ae8-a77a-0df7ace5afab",
   "metadata": {},
   "source": [
    "We create a function that generates the necessary quantum circuit that returns the expectation value of K."
   ]
  },
  {
   "cell_type": "code",
   "execution_count": 3,
   "id": "b152514b-c9de-4533-8472-7d50a4f23ade",
   "metadata": {},
   "outputs": [],
   "source": [
    "def quantum_circuit(n_qubits, H):\n",
    "    # Apply Hadamard in all qubits\n",
    "    for idx in range(n_qubits):\n",
    "        qml.Hadamard(wires=idx)\n",
    "    \n",
    "    # Return the expectation value of Hamiltonian H using the Pennylane built-in function.\n",
    "    return qml.expval(H)"
   ]
  },
  {
   "cell_type": "code",
   "execution_count": 4,
   "id": "9ab9629f-b4d1-4cda-bb42-af3528380371",
   "metadata": {},
   "outputs": [
    {
     "name": "stdout",
     "output_type": "stream",
     "text": [
      "0: ──H─┤ ╭<𝓗>\n",
      "1: ──H─┤ ├<𝓗>\n",
      "2: ──H─┤ ├<𝓗>\n",
      "3: ──H─┤ ├<𝓗>\n",
      "4: ──H─┤ ├<𝓗>\n",
      "5: ──H─┤ ├<𝓗>\n",
      "6: ──H─┤ ├<𝓗>\n",
      "7: ──H─┤ ╰<𝓗>\n"
     ]
    }
   ],
   "source": [
    "n = 8 # number of qubits\n",
    "K = hamiltonian(n) # Hamiltonian K\n",
    "dev = qml.device('default.qubit', wires=n) # Pennylane device\n",
    "expectation_value = qml.QNode(quantum_circuit, dev) # Explicitly declaring the Pennylane QNode\n",
    "\n",
    "print(qml.draw(expectation_value)(n, K))"
   ]
  },
  {
   "cell_type": "code",
   "execution_count": 5,
   "id": "30adcd2e-1f1f-4324-bf12-a3bb70264e90",
   "metadata": {},
   "outputs": [
    {
     "data": {
      "text/plain": [
       "tensor(9.33333333, requires_grad=True)"
      ]
     },
     "execution_count": 5,
     "metadata": {},
     "output_type": "execute_result"
    }
   ],
   "source": [
    "expectation_value(n, K)"
   ]
  },
  {
   "cell_type": "markdown",
   "id": "75670759-93df-47f5-a472-840eb242a4ed",
   "metadata": {},
   "source": [
    "## Challenge 2a\n",
    "\n",
    "The calculation of molecular properties is crucial in scientific and technological fields, such as chemistry and the pharmaceutical industry. In particular, the ground state energy of a molecule provides valuable insights into its properties, including stability and reactivity.\n",
    "\n",
    "You must implement a function in Pennylane that simulates the Variational Quantum Eigensolver (VQE). This function should take as input a six-entry array of floating-point numbers, representing the x, y and z coordinates of two hydrogen atoms. The first three entries correspond to the coordinates of the first hydrogen atom, and the remaining three entries represent the coordinates of the second hydrogen atom. The function should return the ground state energy of the molecule. *Also explain why the Pauli-Z is necessary in Jordan-Wigner transformation*.\n",
    "\n",
    "**Observation: Explicitly define the STO-3G basis function set, multiplicity=1, charge=0 and Jordan-Wigner mapping in the code.**"
   ]
  },
  {
   "cell_type": "markdown",
   "id": "69bdf152-5072-4740-ae57-4e9394e1f056",
   "metadata": {},
   "source": [
    "### Jordan-Wigner Transformation\n",
    "\n",
    "The **Jordan-Wigner transformation** is used to map fermionic operators onto qubit operators. This is necessary because quantum computers work with qubits rather than fermions. The **Pauli-Z operator** plays a crucial role in this mapping due to the need to preserve the anti-commutation relations of fermionic operators.\n",
    "\n",
    "For Fermionic operators on the same site we have the following anti-commutation relation:\n",
    "$$\\{f_j, f_j^\\dagger\\} = 1,$$\n",
    "and for Fermionic operators on the different sites we have the following anti-commutation relations:\n",
    "$$\\quad \\{f_j, f_k\\} = \\{f_j^\\dagger, f_k^\\dagger\\} = \\{f_j, f_k^\\dagger\\} = 0$$\n",
    "where $f_j^\\dagger$ and $f_j$ are fermionic creation and annihilation operators. To represent these operators on a qubit, we need to ensure that their anti-commutation properties are preserved. The Jordan-Wigner transformation achieves this by converting fermionic creation and annihilation operators into qubit operators using Pauli matrices.\n",
    "\n",
    "For a single fermionic mode $j$, the Jordan-Wigner transformation maps the creation ($f_j^\\dagger$) and annihilation ($f_j$) operators as follows:\n",
    "$$\n",
    "f_j^\\dagger = \\frac{1}{2} (X_j - iY_j) \\otimes Z_0 \\otimes Z_1 \\otimes \\dots \\otimes Z_{j-1}\n",
    "$$\n",
    "$$\n",
    "f_j = \\frac{1}{2} (X_j + iY_j) \\otimes Z_0 \\otimes Z_1 \\otimes \\dots \\otimes Z_{j-1}\n",
    "$$\n",
    "where $X_j$, $Y_j$, and $Z_j$ are the Pauli operators acting on the $j$-th qubit, and the $Z_0 \\otimes Z_1 \\otimes \\dots \\otimes Z_{j-1}$ string of Pauli-Z operators appears for all qubits before the $j$-th one.\n",
    "\n",
    "### Why the Pauli-Z is Necessary:\n",
    "The Pauli-Z operators are essential in the Jordan-Wigner transformation because they enforce the correct anti-commutation relations between fermionic creation and annihilation operators when mapped onto qubits. This anti-commutation property is not naturally present in qubit operators like $X$, $Y$, and $Z$, which follow commutation relations. To ensure that qubit operators reflect the anti-commutation of fermionic operators, a string of Pauli-Z operators is introduced in the Jordan-Wigner transformation. These Pauli-Z operators essentially track whether a fermion has been \"created\" or \"annihilated\" on other qubits, ensuring that the proper sign change occurs. Without these Pauli-Z strings, the qubit representation would not correctly reflect the physics of fermions."
   ]
  },
  {
   "cell_type": "markdown",
   "id": "1a360cb8-39e3-4863-b4f2-19267abb4d6e",
   "metadata": {},
   "source": [
    "We define a function that will create the ansatz of VQE."
   ]
  },
  {
   "cell_type": "code",
   "execution_count": 6,
   "id": "f8ad872a-758b-4f01-9201-427456a2b07b",
   "metadata": {},
   "outputs": [],
   "source": [
    "def cost(weights, n_qubits, hf_state, singles, doubles, hamiltonian):\n",
    "    # Generate the necessary operations with the Pennylane built-in function.\n",
    "    qml.AllSinglesDoubles(weights, range(n_qubits), hf_state, singles, doubles)\n",
    "    \n",
    "    # Return the expectation value of Hamiltonian H using the Pennylane built-in function.\n",
    "    return qml.expval(hamiltonian)"
   ]
  },
  {
   "cell_type": "code",
   "execution_count": 9,
   "id": "03430e42-d9e1-43bb-9ced-525d9c09e53d",
   "metadata": {},
   "outputs": [],
   "source": [
    "def H2_ground(coordinates):\n",
    "    symbols = ['H', 'H'] # Symbols for the H2 Molecule\n",
    "    coordinates = np.array(coordinates) # Cast coordinates do Numpy Array\n",
    "    molecule = qml.qchem.Molecule(symbols, coordinates, charge=0, mult=1, basis_name=\"STO-3G\") # Generate the H2 molecule\n",
    "    H, qubits = qml.qchem.molecular_hamiltonian(molecule, mapping='jordan_wigner') # Create the Hamiltonian from H2\n",
    "    electrons = 2\n",
    "    hf = qml.qchem.hf_state(electrons, qubits) # Generate the Hartree-Fock State\n",
    "    n_qubits = len(H.wires)\n",
    "\n",
    "    # singles and doubles are used to make the AllSinglesDoubles template\n",
    "    singles, doubles = qml.qchem.excitations(electrons, n_qubits)\n",
    "\n",
    "    dev = qml.device(\"default.qubit\", wires=n_qubits) # Define the Pennylane device\n",
    "    qc = qml.QNode(cost, dev) # Explicitly declare the QNode\n",
    "    \n",
    "    opt = qml.AdamOptimizer(0.5)\n",
    "    \n",
    "    #Choose an initial parameter for the variation circuit (angle of Givens rotation)\n",
    "    weights = np.random.normal(0, np.pi, len(singles) + len(doubles), requires_grad=True)\n",
    "    \n",
    "    delta_E = 10\n",
    "    tol = 1e-5\n",
    "    it = 0\n",
    "    #Repetition of optimization until convergence\n",
    "    while abs(delta_E) > tol:\n",
    "        it += 1\n",
    "        weights, prev_energy = opt.step_and_cost(qc, weights, n_qubits=n_qubits, hf_state=hf, singles=singles, doubles=doubles, hamiltonian=H)\n",
    "        new_energy = qc(weights, n_qubits=n_qubits, hf_state=hf, singles=singles, doubles=doubles, hamiltonian=H)\n",
    "        delta_E = new_energy - prev_energy\n",
    "        if it % 5 == 0:\n",
    "            print(f\"Step = {it},  Energy = {new_energy:.6f} Ha\")\n",
    "    print(f\"We took {it} iterations until convergence.\")\n",
    "\n",
    "    return new_energy"
   ]
  },
  {
   "cell_type": "code",
   "execution_count": 10,
   "id": "67e138f7-73ef-4963-9f10-57ff9c4e3014",
   "metadata": {},
   "outputs": [
    {
     "name": "stdout",
     "output_type": "stream",
     "text": [
      "Step = 5,  Energy = -0.999699 Ha\n",
      "Step = 10,  Energy = -1.086777 Ha\n",
      "Step = 15,  Energy = -1.099701 Ha\n",
      "Step = 20,  Energy = -1.119729 Ha\n",
      "Step = 25,  Energy = -1.136143 Ha\n",
      "Step = 30,  Energy = -1.131232 Ha\n",
      "Step = 35,  Energy = -1.132164 Ha\n",
      "Step = 40,  Energy = -1.134713 Ha\n",
      "Step = 45,  Energy = -1.134653 Ha\n",
      "Step = 50,  Energy = -1.134836 Ha\n",
      "Step = 55,  Energy = -1.135545 Ha\n",
      "Step = 60,  Energy = -1.135995 Ha\n",
      "Step = 65,  Energy = -1.136111 Ha\n",
      "We took 66 iterations until convergence.\n"
     ]
    },
    {
     "data": {
      "text/plain": [
       "tensor(-1.1361173, requires_grad=True)"
      ]
     },
     "execution_count": 10,
     "metadata": {},
     "output_type": "execute_result"
    }
   ],
   "source": [
    "H2_ground(coordinates = [0.0, 0.0, -0.6614, 0.0, 0.0, 0.6614])"
   ]
  },
  {
   "cell_type": "markdown",
   "id": "c51cb818-18f5-4e35-b415-0e9610124f45",
   "metadata": {},
   "source": [
    "## Challenge 2b\n",
    "\n",
    "For a closed spin chain with a transverse magnetic field of intensity h, the Hamiltonian is: $$H = -\\sum_{i=1}^N Z_i \\otimes z_{i+1} -h \\sum_{i=1}^N X_i,$$ where $Z_i$ and $X_i$ are the Pauli-Z and Pauli-X operators acting on the i-th spin site, respectively. In a closed chain, the site N + 1 is identified with the first site.\n",
    "\n",
    "\n",
    "You must implement a variational quantum algorithm in Pennylane that, for a given value of the transverse magnetic field h, computes the ground state energy of the spin chain with N = 4 sites. The magnetic field intensity h should be passed as an input to the algorithm."
   ]
  },
  {
   "cell_type": "markdown",
   "id": "4a1add0a-cfb2-490a-9963-b250eaaffb29",
   "metadata": {},
   "source": [
    "We define a function to generate the Hamiltonian of a closed chain"
   ]
  },
  {
   "cell_type": "code",
   "execution_count": 11,
   "id": "7e789196-ec58-411e-9005-8679f4453a92",
   "metadata": {},
   "outputs": [],
   "source": [
    "def transverse_ising_closed(h, n_qubits):\n",
    "    coeffs = ([-1]*n_qubits) + ([-h]*n_qubits)\n",
    "    obs = [qml.Z(i) @ qml.Z(i+1) for i in range(n_qubits-1)] + [qml.Z(n_qubits-1) @ qml.Z(0)] + [qml.X(i) for i in range(n_qubits)]\n",
    "    \n",
    "    return qml.Hamiltonian(coeffs, obs)"
   ]
  },
  {
   "cell_type": "markdown",
   "id": "54c5dc3a-5a35-4b04-8c1b-bf83dcec6aef",
   "metadata": {},
   "source": [
    "We define a function for the ansatz to be used in VQE."
   ]
  },
  {
   "cell_type": "code",
   "execution_count": 12,
   "id": "89f33cd0-7ed4-430e-95a0-ec60e03a641d",
   "metadata": {},
   "outputs": [],
   "source": [
    "def ansatz(params, H):\n",
    "    params = params.reshape(-1, len(H.wires))\n",
    "    \n",
    "    for w in H.wires:\n",
    "        qml.Hadamard(wires=w)\n",
    "    \n",
    "    for i, p in enumerate(params[:len(params)//2]):\n",
    "        if i%2 ==0:\n",
    "            qml.AngleEmbedding(features=p, wires=H.wires, rotation='Y')\n",
    "        else:\n",
    "            qml.AngleEmbedding(features=p, wires=H.wires, rotation='Z')\n",
    "\n",
    "    for w in H.wires[:-1]:\n",
    "        qml.CNOT(wires=[w,w+1])\n",
    "    \n",
    "    for i, p in enumerate(params[len(params)//2:]):\n",
    "        if i%2 ==0:\n",
    "            qml.AngleEmbedding(features=p, wires=H.wires, rotation='Y')\n",
    "        else:\n",
    "            qml.AngleEmbedding(features=p, wires=H.wires, rotation='Z')\n",
    "    \n",
    "    return qml.expval(H)\n"
   ]
  },
  {
   "cell_type": "code",
   "execution_count": 18,
   "id": "0516254e-0b72-4f00-a94f-7b00456898c8",
   "metadata": {},
   "outputs": [],
   "source": [
    "def ground_energy_ising(h):\n",
    "    N = 4\n",
    "    H = transverse_ising_closed(h, N)\n",
    "    theta = np.random.rand(16)\n",
    "    opt = qml.AdamOptimizer(0.5)\n",
    "\n",
    "    dev = qml.device(\"default.qubit\", wires=N)\n",
    "    qc = qml.QNode(ansatz, dev)\n",
    "    \n",
    "    delta_E = 10\n",
    "    results = []\n",
    "    tol = 1e-6\n",
    "    #Repetition of optimization until convergence\n",
    "    while abs(delta_E) > tol:\n",
    "        theta, prev_energy = opt.step_and_cost(qc, theta, H=H)\n",
    "        new_energy = qc(theta, H=H)\n",
    "        delta_E = new_energy - prev_energy\n",
    "        results.append(new_energy)\n",
    "        if len(results) % 5 == 0:\n",
    "            print(f\"Step = {len(results)},  Energy = {new_energy:.6f} Ha\")\n",
    "    \n",
    "    return results[-1]\n"
   ]
  },
  {
   "cell_type": "code",
   "execution_count": 20,
   "id": "561a6e88-4408-4de1-8b29-e71dbca8e179",
   "metadata": {},
   "outputs": [
    {
     "name": "stdout",
     "output_type": "stream",
     "text": [
      "Step = 5,  Energy = -7.663451 Ha\n",
      "Step = 10,  Energy = -8.935372 Ha\n",
      "Step = 15,  Energy = -8.956452 Ha\n",
      "Step = 20,  Energy = -9.414306 Ha\n",
      "Step = 25,  Energy = -9.298180 Ha\n",
      "Step = 30,  Energy = -9.414176 Ha\n",
      "Step = 35,  Energy = -9.475196 Ha\n",
      "Step = 40,  Energy = -9.480111 Ha\n",
      "Step = 45,  Energy = -9.495372 Ha\n",
      "Step = 50,  Energy = -9.506477 Ha\n",
      "Step = 55,  Energy = -9.517018 Ha\n",
      "Step = 60,  Energy = -9.520710 Ha\n",
      "Step = 65,  Energy = -9.525098 Ha\n",
      "Step = 70,  Energy = -9.529672 Ha\n",
      "Step = 75,  Energy = -9.530652 Ha\n",
      "Step = 80,  Energy = -9.531965 Ha\n",
      "Step = 85,  Energy = -9.532994 Ha\n",
      "Step = 90,  Energy = -9.533384 Ha\n",
      "Step = 95,  Energy = -9.533790 Ha\n",
      "Step = 100,  Energy = -9.534038 Ha\n"
     ]
    },
    {
     "data": {
      "text/plain": [
       "tensor(-9.53403805, requires_grad=True)"
      ]
     },
     "execution_count": 20,
     "metadata": {},
     "output_type": "execute_result"
    }
   ],
   "source": [
    "ground_energy_ising(h=2.3)"
   ]
  },
  {
   "cell_type": "markdown",
   "id": "31aaf01f-6587-4621-8d52-589971715341",
   "metadata": {},
   "source": [
    "## Challenge 2c\n",
    "\n",
    "The total energy of a quantum system is represented by operator H. We know that an initial quantum state |ψ⟩ evolves over time through the action of the evolution operator U , defined as $$U(t) = exp[-iHt]$$ However, it’s possible to build quantum circuits that approximates the realization of U(t), being one of these methods knows as Trotterization. If we can write H as $$H = \\sum_{i=1}^k H_i$$ of a number k of Hermitian operators $H_i$ that do not necessarily commute, we can approximate U(t) via $$U(t) \\approx \\prod_{j=1}^n\\prod_{i=1}^k exp\\left( -\\frac{iH_it}{n} \\right)$$ with each term in the j-product called trotter step. The larger n is, i.e. more trotter\n",
    "steps, the better the approximation of U that we get.\n",
    "\n",
    "You must implement in Pennylane a function which applies the evolution operator related to the Hamiltonian $$H = \\alpha X\\otimes X + \\beta Z\\otimes Z$$ in the state |00⟩. The function must receive as parameters α, β, the time t and the number of trotter steps n in this order. It must return the probability of measure |00⟩, |01⟩, |10⟩, |11⟩.\n",
    "\n",
    "**Observation: You may not use PennyLane’s built-in time evolution (qml.ApproxTimeEvolution, qml.evolve) nor qml.QubitUnitary. All the measures must be done in computational base.**"
   ]
  },
  {
   "cell_type": "markdown",
   "id": "4bae43ee-9a4f-4712-aa67-16d4941c4e8a",
   "metadata": {},
   "source": [
    "We trotterize the given Hamiltonian H"
   ]
  },
  {
   "cell_type": "code",
   "execution_count": 21,
   "id": "bea34a39-1d40-4c3c-9044-e4adec0a5a9b",
   "metadata": {},
   "outputs": [],
   "source": [
    "def trotterize(alpha, beta, time, depth):\n",
    "    for d in range(depth):\n",
    "        qml.Hadamard(wires=[0])\n",
    "        qml.Hadamard(wires=[1])\n",
    "        qml.CNOT(wires=[0,1])\n",
    "        qml.RZ(2*alpha*(time/depth), wires=1)\n",
    "        qml.CNOT(wires=[0,1])\n",
    "        qml.Hadamard(wires=[0])\n",
    "        qml.Hadamard(wires=[1])\n",
    "        \n",
    "        qml.CNOT(wires=[0,1])\n",
    "        qml.RZ(2*beta*(time/depth), wires=1)\n",
    "        qml.CNOT(wires=[0,1])\n",
    "    \n",
    "    # Return the probabilities\n",
    "    return qml.probs(wires=[0,1])"
   ]
  },
  {
   "cell_type": "code",
   "execution_count": 23,
   "id": "a664b8c0-ec15-4630-835d-51fce95b8fd9",
   "metadata": {},
   "outputs": [
    {
     "data": {
      "text/plain": [
       "array([0.99003329, 0.        , 0.        , 0.00996671])"
      ]
     },
     "execution_count": 23,
     "metadata": {},
     "output_type": "execute_result"
    }
   ],
   "source": [
    "dev = qml.device(\"default.qubit\", wires=2) # Define the Pennylane device\n",
    "qc = qml.QNode(trotterize, dev) # Explicitly declare the QNode\n",
    "\n",
    "qc(alpha=0.5, beta=0.8, time=0.2, depth=1).numpy()"
   ]
  }
 ],
 "metadata": {
  "kernelspec": {
   "display_name": "Python 3 (ipykernel)",
   "language": "python",
   "name": "python3"
  },
  "language_info": {
   "codemirror_mode": {
    "name": "ipython",
    "version": 3
   },
   "file_extension": ".py",
   "mimetype": "text/x-python",
   "name": "python",
   "nbconvert_exporter": "python",
   "pygments_lexer": "ipython3",
   "version": "3.9.7"
  }
 },
 "nbformat": 4,
 "nbformat_minor": 5
}
