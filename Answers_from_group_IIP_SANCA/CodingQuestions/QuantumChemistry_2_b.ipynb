{
  "nbformat": 4,
  "nbformat_minor": 0,
  "metadata": {
    "colab": {
      "provenance": []
    },
    "kernelspec": {
      "name": "python3",
      "display_name": "Python 3"
    },
    "language_info": {
      "name": "python"
    }
  },
  "cells": [
    {
      "cell_type": "code",
      "execution_count": null,
      "metadata": {
        "colab": {
          "base_uri": "https://localhost:8080/"
        },
        "id": "7OxuXEnscjM3",
        "outputId": "aa179592-cc16-48f1-e031-8156f25d2a78"
      },
      "outputs": [
        {
          "output_type": "stream",
          "name": "stdout",
          "text": [
            "Collecting pennylane\n",
            "  Downloading PennyLane-0.38.0-py3-none-any.whl.metadata (9.3 kB)\n",
            "Requirement already satisfied: numpy<2.0 in /usr/local/lib/python3.10/dist-packages (from pennylane) (1.26.4)\n",
            "Requirement already satisfied: scipy in /usr/local/lib/python3.10/dist-packages (from pennylane) (1.13.1)\n",
            "Requirement already satisfied: networkx in /usr/local/lib/python3.10/dist-packages (from pennylane) (3.4)\n",
            "Collecting rustworkx>=0.14.0 (from pennylane)\n",
            "  Downloading rustworkx-0.15.1-cp38-abi3-manylinux_2_17_x86_64.manylinux2014_x86_64.whl.metadata (9.9 kB)\n",
            "Requirement already satisfied: autograd in /usr/local/lib/python3.10/dist-packages (from pennylane) (1.7.0)\n",
            "Requirement already satisfied: toml in /usr/local/lib/python3.10/dist-packages (from pennylane) (0.10.2)\n",
            "Collecting appdirs (from pennylane)\n",
            "  Downloading appdirs-1.4.4-py2.py3-none-any.whl.metadata (9.0 kB)\n",
            "Collecting autoray>=0.6.11 (from pennylane)\n",
            "  Downloading autoray-0.6.12-py3-none-any.whl.metadata (5.7 kB)\n",
            "Requirement already satisfied: cachetools in /usr/local/lib/python3.10/dist-packages (from pennylane) (5.5.0)\n",
            "Collecting pennylane-lightning>=0.38 (from pennylane)\n",
            "  Downloading PennyLane_Lightning-0.38.0-cp310-cp310-manylinux_2_28_x86_64.whl.metadata (26 kB)\n",
            "Requirement already satisfied: requests in /usr/local/lib/python3.10/dist-packages (from pennylane) (2.32.3)\n",
            "Requirement already satisfied: typing-extensions in /usr/local/lib/python3.10/dist-packages (from pennylane) (4.12.2)\n",
            "Requirement already satisfied: packaging in /usr/local/lib/python3.10/dist-packages (from pennylane) (24.1)\n",
            "Requirement already satisfied: charset-normalizer<4,>=2 in /usr/local/lib/python3.10/dist-packages (from requests->pennylane) (3.4.0)\n",
            "Requirement already satisfied: idna<4,>=2.5 in /usr/local/lib/python3.10/dist-packages (from requests->pennylane) (3.10)\n",
            "Requirement already satisfied: urllib3<3,>=1.21.1 in /usr/local/lib/python3.10/dist-packages (from requests->pennylane) (2.2.3)\n",
            "Requirement already satisfied: certifi>=2017.4.17 in /usr/local/lib/python3.10/dist-packages (from requests->pennylane) (2024.8.30)\n",
            "Downloading PennyLane-0.38.0-py3-none-any.whl (1.9 MB)\n",
            "\u001b[2K   \u001b[90m━━━━━━━━━━━━━━━━━━━━━━━━━━━━━━━━━━━━━━━━\u001b[0m \u001b[32m1.9/1.9 MB\u001b[0m \u001b[31m19.2 MB/s\u001b[0m eta \u001b[36m0:00:00\u001b[0m\n",
            "\u001b[?25hDownloading autoray-0.6.12-py3-none-any.whl (50 kB)\n",
            "\u001b[2K   \u001b[90m━━━━━━━━━━━━━━━━━━━━━━━━━━━━━━━━━━━━━━━━\u001b[0m \u001b[32m51.0/51.0 kB\u001b[0m \u001b[31m2.5 MB/s\u001b[0m eta \u001b[36m0:00:00\u001b[0m\n",
            "\u001b[?25hDownloading PennyLane_Lightning-0.38.0-cp310-cp310-manylinux_2_28_x86_64.whl (15.3 MB)\n",
            "\u001b[2K   \u001b[90m━━━━━━━━━━━━━━━━━━━━━━━━━━━━━━━━━━━━━━━━\u001b[0m \u001b[32m15.3/15.3 MB\u001b[0m \u001b[31m53.3 MB/s\u001b[0m eta \u001b[36m0:00:00\u001b[0m\n",
            "\u001b[?25hDownloading rustworkx-0.15.1-cp38-abi3-manylinux_2_17_x86_64.manylinux2014_x86_64.whl (2.0 MB)\n",
            "\u001b[2K   \u001b[90m━━━━━━━━━━━━━━━━━━━━━━━━━━━━━━━━━━━━━━━━\u001b[0m \u001b[32m2.0/2.0 MB\u001b[0m \u001b[31m42.1 MB/s\u001b[0m eta \u001b[36m0:00:00\u001b[0m\n",
            "\u001b[?25hDownloading appdirs-1.4.4-py2.py3-none-any.whl (9.6 kB)\n",
            "Installing collected packages: appdirs, rustworkx, autoray, pennylane-lightning, pennylane\n",
            "Successfully installed appdirs-1.4.4 autoray-0.6.12 pennylane-0.38.0 pennylane-lightning-0.38.0 rustworkx-0.15.1\n"
          ]
        }
      ],
      "source": [
        "!pip install pennylane"
      ]
    },
    {
      "cell_type": "code",
      "source": [
        "!pip install scipy"
      ],
      "metadata": {
        "colab": {
          "base_uri": "https://localhost:8080/"
        },
        "id": "sL2WGAFVclcy",
        "outputId": "6dcd6b57-5a6a-4d6d-9777-531f46f561d5"
      },
      "execution_count": null,
      "outputs": [
        {
          "output_type": "stream",
          "name": "stdout",
          "text": [
            "Requirement already satisfied: scipy in /usr/local/lib/python3.10/dist-packages (1.13.1)\n",
            "Requirement already satisfied: numpy<2.3,>=1.22.4 in /usr/local/lib/python3.10/dist-packages (from scipy) (1.26.4)\n"
          ]
        }
      ]
    },
    {
      "cell_type": "code",
      "source": [
        "!pip install pandas"
      ],
      "metadata": {
        "colab": {
          "base_uri": "https://localhost:8080/"
        },
        "id": "iTqdS--Lcm23",
        "outputId": "0cb554f4-c26f-4828-8d0e-21bf4fa988ae"
      },
      "execution_count": null,
      "outputs": [
        {
          "output_type": "stream",
          "name": "stdout",
          "text": [
            "Requirement already satisfied: pandas in /usr/local/lib/python3.10/dist-packages (2.2.2)\n",
            "Requirement already satisfied: numpy>=1.22.4 in /usr/local/lib/python3.10/dist-packages (from pandas) (1.26.4)\n",
            "Requirement already satisfied: python-dateutil>=2.8.2 in /usr/local/lib/python3.10/dist-packages (from pandas) (2.8.2)\n",
            "Requirement already satisfied: pytz>=2020.1 in /usr/local/lib/python3.10/dist-packages (from pandas) (2024.2)\n",
            "Requirement already satisfied: tzdata>=2022.7 in /usr/local/lib/python3.10/dist-packages (from pandas) (2024.2)\n",
            "Requirement already satisfied: six>=1.5 in /usr/local/lib/python3.10/dist-packages (from python-dateutil>=2.8.2->pandas) (1.16.0)\n"
          ]
        }
      ]
    },
    {
      "cell_type": "markdown",
      "source": [
        "# To Read\n",
        "In this challenge, we created two algorithms: one classical and one quantum. The reason for this is to compare the responses of the quantum algorithm with the classical one. The VQE algorithm was explained in the previous exercise. Here, what changes are the functions we use to optimize the circuit and the ansatz as well. We did it this way to vary the response and also to understand how different methods from different libraries work.\n",
        "\n",
        "**Summary:**\n",
        "\n",
        "1. Quantum algorithm (the function run_vqe(h) will provide the answer to the challenge)\n",
        "2. Classical algorithm\n",
        "3. Comparing the algorithms\n",
        "\n"
      ],
      "metadata": {
        "id": "7OY_RBWNeX6n"
      }
    },
    {
      "cell_type": "code",
      "source": [
        "import numpy as np\n",
        "import matplotlib.pyplot as plt\n",
        "import pandas as pd\n",
        "import scipy as scipy\n",
        "from tqdm import tqdm\n",
        "from scipy.sparse.linalg import eigs,eigsh\n",
        "import pennylane as qml\n",
        "from pennylane import numpy as pnp"
      ],
      "metadata": {
        "id": "Y4P4qG1McpsU"
      },
      "execution_count": 33,
      "outputs": []
    },
    {
      "cell_type": "markdown",
      "source": [
        "# Quantum Algorithm Section"
      ],
      "metadata": {
        "id": "Py10cToEgSIH"
      }
    },
    {
      "cell_type": "code",
      "source": [
        "\n",
        "\n",
        "def create_hamiltonian(h, N):\n",
        "    \"\"\"\n",
        "    Function to create a Hamiltonian for a spin chain with periodic boundary conditions.\n",
        "\n",
        "    Args:\n",
        "        h (float): Magnetic field strength.\n",
        "        N (int): Number of spins in the chain.\n",
        "\n",
        "    Returns:\n",
        "        Hamiltonian: The Hamiltonian representing the spin chain.\n",
        "\n",
        "    The Hamiltonian consists of:\n",
        "    - ZZ interaction terms with periodic boundary conditions.\n",
        "    - X terms representing the effect of the external magnetic field.\n",
        "    \"\"\"\n",
        "    coeffs = []\n",
        "    ops = []\n",
        "\n",
        "    # ZZ terms with periodic boundary conditions\n",
        "    for i in range(N):\n",
        "        coeffs.append(-1.0)\n",
        "        ops.append(qml.PauliZ(wires=i) @ qml.PauliZ(wires=(i+1)%N))\n",
        "\n",
        "    # X terms (magnetic field)\n",
        "    for i in range(N):\n",
        "        coeffs.append(-h)\n",
        "        ops.append(qml.PauliX(wires=i))\n",
        "\n",
        "    H = qml.Hamiltonian(coeffs, ops)\n",
        "    return H\n",
        "\n",
        "def ansatz(params, N):\n",
        "    \"\"\"\n",
        "    Function to define the quantum circuit ansatz for the VQE.\n",
        "\n",
        "    Args:\n",
        "        params (array): Array of parameters for the ansatz.\n",
        "        N (int): Number of qubits (spins) in the system.\n",
        "\n",
        "    The ansatz uses Strongly Entangling Layers from PennyLane's template library.\n",
        "    \"\"\"\n",
        "    qml.templates.StronglyEntanglingLayers(params, wires=range(N))\n",
        "\n",
        "def run_vqe(h):\n",
        "    \"\"\"\n",
        "    Function to run the Variational Quantum Eigensolver (VQE) algorithm to find the ground state energy.\n",
        "\n",
        "    Args:\n",
        "        h (float): Magnetic field strength.\n",
        "\n",
        "    Returns:\n",
        "        energy (float): Final optimized energy (ground state energy).\n",
        "        params (array): Optimized parameters after VQE execution.\n",
        "        ground_state (array): Final statevector of the system after optimization.\n",
        "    \"\"\"\n",
        "    N = 4  # Number of spins (qubits)\n",
        "\n",
        "    # Create the Hamiltonian for the system\n",
        "    H = create_hamiltonian(h, N)\n",
        "\n",
        "    # Set up the quantum device\n",
        "    dev = qml.device('default.qubit', wires=N, shots=None)\n",
        "\n",
        "    @qml.qnode(dev)\n",
        "    def circuit(params):\n",
        "        \"\"\"\n",
        "        Quantum node that executes the ansatz and returns the expectation value of the Hamiltonian.\n",
        "\n",
        "        Args:\n",
        "            params (array): Parameters for the ansatz.\n",
        "\n",
        "        Returns:\n",
        "            float: Expectation value of the Hamiltonian.\n",
        "        \"\"\"\n",
        "        ansatz(params, N)\n",
        "        return qml.expval(H)\n",
        "\n",
        "    # Define the number of layers in the ansatz\n",
        "    num_layers = 4\n",
        "\n",
        "    # Initialize parameters randomly\n",
        "    params = pnp.random.normal(0, pnp.pi, size=(num_layers, N, 3), requires_grad=True)\n",
        "\n",
        "    # Set up the optimizer\n",
        "    optimizer = qml.AdamOptimizer(stepsize=0.05)\n",
        "    max_iterations = 500\n",
        "    convergence_tol = 1e-04\n",
        "\n",
        "    # Track the energy throughout the optimization\n",
        "    energy = [circuit(params)]\n",
        "    for n in range(max_iterations):\n",
        "        # Perform an optimization step\n",
        "        params = optimizer.step(circuit, params)\n",
        "        energy.append(circuit(params))\n",
        "\n",
        "        # Check for convergence\n",
        "        if pnp.abs(energy[-1] - energy[-2]) < convergence_tol:\n",
        "            break\n",
        "\n",
        "    # After optimization, obtain the final state\n",
        "    @qml.qnode(dev)\n",
        "    def final_state(params):\n",
        "        \"\"\"\n",
        "        Quantum node that prepares the final state using the optimized parameters.\n",
        "\n",
        "        Args:\n",
        "            params (array): Optimized parameters for the ansatz.\n",
        "\n",
        "        Returns:\n",
        "            array: Final statevector of the system.\n",
        "        \"\"\"\n",
        "        ansatz(params, N)\n",
        "        return qml.state()\n",
        "\n",
        "    ground_state = final_state(params)\n",
        "\n",
        "    return energy[-1], params, ground_state\n"
      ],
      "metadata": {
        "id": "xjssAVqhfwLR"
      },
      "execution_count": 34,
      "outputs": []
    },
    {
      "cell_type": "markdown",
      "source": [
        "# Result of the VQE for a given h parameter"
      ],
      "metadata": {
        "id": "-e8_d4QjlGy7"
      }
    },
    {
      "cell_type": "code",
      "source": [
        "h = 1\n",
        "Energy = run_vqe(h)[0]\n",
        "print(\"The energy converged was \",Energy)"
      ],
      "metadata": {
        "id": "0Fvbv-xNkpNK",
        "colab": {
          "base_uri": "https://localhost:8080/"
        },
        "outputId": "576899e3-006e-47b0-e77a-738652f16510"
      },
      "execution_count": 35,
      "outputs": [
        {
          "output_type": "stream",
          "name": "stdout",
          "text": [
            "The energy converged was  -4.809885849116351\n"
          ]
        }
      ]
    },
    {
      "cell_type": "markdown",
      "source": [
        "# Classical Algorthm Section\n",
        "\n",
        "**This is not part of the exercise. But we did it just for comparison at the end**\n",
        "\n",
        "\n",
        "\n"
      ],
      "metadata": {
        "id": "MmodlcZFgYaG"
      }
    },
    {
      "cell_type": "code",
      "source": [
        "# Definition of Pauli matrices\n",
        "pauli_x = np.array([[0,1],[1,0]])\n",
        "pauli_y = np.array([[0,-1j],[1j,0]])\n",
        "pauli_z = np.array([[1,0],[0,-1]])\n",
        "\n",
        "N = 4\n",
        "\n",
        "def Opi(O,i, N):\n",
        "  \"\"\"\n",
        "    Embeds the operator 'O' into the tensor product space at position 'i' out of 'N' qubits.\n",
        "\n",
        "    Args:\n",
        "        O (array): A 2x2 matrix representing a quantum operator.\n",
        "        i (int): Position index for the operator.\n",
        "        N (int): Total number of qubits.\n",
        "\n",
        "    Returns:\n",
        "        array: A 2**N x 2**N matrix representing the operator 'O' embedded in a larger Hilbert space.\n",
        "    \"\"\"\n",
        "  if(i<N):\n",
        "        return scipy.linalg.kron(scipy.linalg.kron(np.identity(2**i), O),np.identity(2**(N-1-i)))\n",
        "  elif(i==N):\n",
        "        j=0\n",
        "        return scipy.linalg.kron(scipy.linalg.kron(np.identity(2**j), O),np.identity(2**(N-1-j)))\n",
        "  elif(i==N+1):\n",
        "        j=1\n",
        "        return scipy.linalg.kron(scipy.linalg.kron(np.identity(2**j), O),np.identity(2**(N-1-j)))\n",
        "# For good pratices the The hamilnoian will be divided in two parts Ising and transverse\n",
        "def Hamiltonian_Ising(N):\n",
        "    \"\"\"\n",
        "    Generates the Ising model Hamiltonian with periodic boundary conditions for N qubits.\n",
        "\n",
        "    Args:\n",
        "        N (int): Number of qubits.\n",
        "\n",
        "    Returns:\n",
        "        array: A 2**N x 2**N matrix representing the Ising Hamiltonian.\n",
        "    \"\"\"\n",
        "\n",
        "\n",
        "    Hamiltonian_Ising_matrix =  np.zeros((2**N,2**N))\n",
        "\n",
        "    for i in range(N):\n",
        "        Hamiltonian_Ising_matrix+=Opi(pauli_z,i, N)@Opi(pauli_z,i+1, N)\n",
        "\n",
        "    return Hamiltonian_Ising_matrix\n",
        "\n",
        "\n",
        "def hamiltonian_transverse(N):\n",
        "\n",
        "   \"\"\"\n",
        "    Generates the transverse field term of the Hamiltonian for N qubits.\n",
        "\n",
        "    Args:\n",
        "        N (int): Number of qubits.\n",
        "\n",
        "    Returns:\n",
        "        array: A 2**N x 2**N matrix representing the transverse field Hamiltonian.\n",
        "    \"\"\"\n",
        "\n",
        "   Hamiltonian_Transverse_matrix = np.zeros((2**N,2**N))\n",
        "\n",
        "   for i in range(N):\n",
        "      Hamiltonian_Transverse_matrix += Opi(pauli_x,i, N)\n",
        "\n",
        "   return Hamiltonian_Transverse_matrix\n",
        "\n",
        "# Creation of Hamiltonian components\n",
        "Hamiltonian_Ising = Hamiltonian_Ising(N)\n",
        "Hamiltonian_Transverse = hamiltonian_transverse(N)\n",
        "\n",
        "def Hamiltonian_total(g,J=1):\n",
        "  \"\"\"\n",
        "    Combines the Ising and transverse Hamiltonians into a total Hamiltonian with a coupling constant and a transverse field strength.\n",
        "\n",
        "    Args:\n",
        "        g (float): Transverse field strength.\n",
        "        J (float): Coupling constant of the Ising Hamiltonian (default is 1).\n",
        "\n",
        "    Returns:\n",
        "        array: A 2**N x 2**N matrix representing the total Hamiltonian.\n",
        "    \"\"\"\n",
        "  return -J*(Hamiltonian_Ising+g*Hamiltonian_Transverse)"
      ],
      "metadata": {
        "id": "6fPqpEVLcvkU"
      },
      "execution_count": 44,
      "outputs": []
    },
    {
      "cell_type": "code",
      "source": [
        "# Initialize the array of transverse field values\n",
        "transverse_field = np.arange(0, 1, 0.1)\n",
        "\n",
        "#Prepare a DataFrame to store results from the classical calculation\n",
        "ground_state = pd.DataFrame()\n",
        "ground_state['G'] = []\n",
        "ground_state['Energy'] = []\n",
        "ground_state['Ground State'] = []\n",
        "\n",
        "\n",
        "for i in transverse_field:\n",
        "    Hamiltoniano = Hamiltonian_total(g=i)\n",
        "    eigenvalues, eigenvectors = np.linalg.eig(Hamiltoniano)\n",
        "    Ground_state = eigenvectors[:,np.argmin(eigenvalues)]\n",
        "    minor_energy = eigenvalues.min()\n",
        "    ground_state_list = [i,minor_energy,Ground_state]\n",
        "    ground_state.loc[len(ground_state)] = pd.Series(ground_state_list,index=ground_state.columns).values\n",
        "\n",
        "ground_state_energy_real = [energy.real for energy in ground_state['Energy']]\n",
        "\n",
        "#Prepare a DataFrame to store results from the Quantum calculation\n",
        "\n",
        "ground_state_variational = pd.DataFrame()\n",
        "\n",
        "ground_state_variational['G'] = []\n",
        "ground_state_variational['Energy'] = []\n",
        "ground_state_variational['Ground State'] = []\n",
        "\n",
        "\n",
        "for i in transverse_field:\n",
        "    energia, params_otimizados, estado_ground = run_vqe(i)\n",
        "\n",
        "    ground_state_variational_list = [i,energia,estado_ground]\n",
        "    ground_state_variational.loc[len(ground_state_variational)] = pd.Series(ground_state_variational_list,index=ground_state_variational.columns).values\n"
      ],
      "metadata": {
        "id": "OcEW81kIg2HC"
      },
      "execution_count": 45,
      "outputs": []
    },
    {
      "cell_type": "code",
      "source": [
        "plt.scatter(ground_state['G'], ground_state_energy_real, label= 'Classical Algorithm')\n",
        "plt.scatter(ground_state_variational['G'],ground_state_variational['Energy'], label = 'VQE Algorithm')\n",
        "plt.xlabel('Transverse Field Intensity')\n",
        "plt.ylabel('Energy of system')\n",
        "plt.legend()\n",
        "plt.savefig('VQE_figure')"
      ],
      "metadata": {
        "id": "2tnDuq86g5Pa",
        "colab": {
          "base_uri": "https://localhost:8080/",
          "height": 449
        },
        "outputId": "aa8c6cae-724a-4f77-bf5e-40bd538e0d82"
      },
      "execution_count": 46,
      "outputs": [
        {
          "output_type": "display_data",
          "data": {
            "text/plain": [
              "<Figure size 640x480 with 1 Axes>"
            ],
            "image/png": "[encoded data removed]"
          },
          "metadata": {}
        }
      ]
    },
    {
      "cell_type": "code",
      "source": [],
      "metadata": {
        "id": "k3g90N2thyjH"
      },
      "execution_count": null,
      "outputs": []
    }
  ]
}