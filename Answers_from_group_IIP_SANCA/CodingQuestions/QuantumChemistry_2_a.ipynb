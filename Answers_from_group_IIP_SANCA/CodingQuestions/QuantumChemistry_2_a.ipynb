{
  "nbformat": 4,
  "nbformat_minor": 0,
  "metadata": {
    "colab": {
      "provenance": []
    },
    "kernelspec": {
      "name": "python3",
      "display_name": "Python 3"
    },
    "language_info": {
      "name": "python"
    }
  },
  "cells": [
    {
      "cell_type": "code",
      "execution_count": 1,
      "metadata": {
        "colab": {
          "base_uri": "https://localhost:8080/"
        },
        "collapsed": true,
        "id": "4Pswgtf7BbJG",
        "outputId": "44cc51cb-4f64-4170-c710-17126d59e518"
      },
      "outputs": [
        {
          "output_type": "stream",
          "name": "stdout",
          "text": [
            "Collecting pennylane\n",
            "  Downloading PennyLane-0.38.0-py3-none-any.whl.metadata (9.3 kB)\n",
            "Requirement already satisfied: numpy<2.0 in /usr/local/lib/python3.10/dist-packages (from pennylane) (1.26.4)\n",
            "Requirement already satisfied: scipy in /usr/local/lib/python3.10/dist-packages (from pennylane) (1.13.1)\n",
            "Requirement already satisfied: networkx in /usr/local/lib/python3.10/dist-packages (from pennylane) (3.4)\n",
            "Collecting rustworkx>=0.14.0 (from pennylane)\n",
            "  Downloading rustworkx-0.15.1-cp38-abi3-manylinux_2_17_x86_64.manylinux2014_x86_64.whl.metadata (9.9 kB)\n",
            "Requirement already satisfied: autograd in /usr/local/lib/python3.10/dist-packages (from pennylane) (1.7.0)\n",
            "Requirement already satisfied: toml in /usr/local/lib/python3.10/dist-packages (from pennylane) (0.10.2)\n",
            "Collecting appdirs (from pennylane)\n",
            "  Downloading appdirs-1.4.4-py2.py3-none-any.whl.metadata (9.0 kB)\n",
            "Collecting autoray>=0.6.11 (from pennylane)\n",
            "  Downloading autoray-0.6.12-py3-none-any.whl.metadata (5.7 kB)\n",
            "Requirement already satisfied: cachetools in /usr/local/lib/python3.10/dist-packages (from pennylane) (5.5.0)\n",
            "Collecting pennylane-lightning>=0.38 (from pennylane)\n",
            "  Downloading PennyLane_Lightning-0.38.0-cp310-cp310-manylinux_2_28_x86_64.whl.metadata (26 kB)\n",
            "Requirement already satisfied: requests in /usr/local/lib/python3.10/dist-packages (from pennylane) (2.32.3)\n",
            "Requirement already satisfied: typing-extensions in /usr/local/lib/python3.10/dist-packages (from pennylane) (4.12.2)\n",
            "Requirement already satisfied: packaging in /usr/local/lib/python3.10/dist-packages (from pennylane) (24.1)\n",
            "Requirement already satisfied: charset-normalizer<4,>=2 in /usr/local/lib/python3.10/dist-packages (from requests->pennylane) (3.4.0)\n",
            "Requirement already satisfied: idna<4,>=2.5 in /usr/local/lib/python3.10/dist-packages (from requests->pennylane) (3.10)\n",
            "Requirement already satisfied: urllib3<3,>=1.21.1 in /usr/local/lib/python3.10/dist-packages (from requests->pennylane) (2.2.3)\n",
            "Requirement already satisfied: certifi>=2017.4.17 in /usr/local/lib/python3.10/dist-packages (from requests->pennylane) (2024.8.30)\n",
            "Downloading PennyLane-0.38.0-py3-none-any.whl (1.9 MB)\n",
            "\u001b[2K   \u001b[90m━━━━━━━━━━━━━━━━━━━━━━━━━━━━━━━━━━━━━━━━\u001b[0m \u001b[32m1.9/1.9 MB\u001b[0m \u001b[31m18.4 MB/s\u001b[0m eta \u001b[36m0:00:00\u001b[0m\n",
            "\u001b[?25hDownloading autoray-0.6.12-py3-none-any.whl (50 kB)\n",
            "\u001b[2K   \u001b[90m━━━━━━━━━━━━━━━━━━━━━━━━━━━━━━━━━━━━━━━━\u001b[0m \u001b[32m51.0/51.0 kB\u001b[0m \u001b[31m2.6 MB/s\u001b[0m eta \u001b[36m0:00:00\u001b[0m\n",
            "\u001b[?25hDownloading PennyLane_Lightning-0.38.0-cp310-cp310-manylinux_2_28_x86_64.whl (15.3 MB)\n",
            "\u001b[2K   \u001b[90m━━━━━━━━━━━━━━━━━━━━━━━━━━━━━━━━━━━━━━━━\u001b[0m \u001b[32m15.3/15.3 MB\u001b[0m \u001b[31m20.1 MB/s\u001b[0m eta \u001b[36m0:00:00\u001b[0m\n",
            "\u001b[?25hDownloading rustworkx-0.15.1-cp38-abi3-manylinux_2_17_x86_64.manylinux2014_x86_64.whl (2.0 MB)\n",
            "\u001b[2K   \u001b[90m━━━━━━━━━━━━━━━━━━━━━━━━━━━━━━━━━━━━━━━━\u001b[0m \u001b[32m2.0/2.0 MB\u001b[0m \u001b[31m19.4 MB/s\u001b[0m eta \u001b[36m0:00:00\u001b[0m\n",
            "\u001b[?25hDownloading appdirs-1.4.4-py2.py3-none-any.whl (9.6 kB)\n",
            "Installing collected packages: appdirs, rustworkx, autoray, pennylane-lightning, pennylane\n",
            "Successfully installed appdirs-1.4.4 autoray-0.6.12 pennylane-0.38.0 pennylane-lightning-0.38.0 rustworkx-0.15.1\n"
          ]
        }
      ],
      "source": [
        "!pip install pennylane"
      ]
    },
    {
      "cell_type": "markdown",
      "source": [
        "\n",
        "\n",
        "# Summary\n",
        "\n",
        "1. **Explanation of the code**  \n",
        "2. **Explanation of why the Pauli-Z is necessary in the Jordan-Wigner transformation**  \n",
        "3. **Code section**  \n",
        "\n"
      ],
      "metadata": {
        "id": "j9D_pBWFWxJ4"
      }
    },
    {
      "cell_type": "markdown",
      "source": [
        "## Explanation of the code\n",
        "\n",
        "The molecule of $ H_2 $ is simply the \"composition\" of two hydrogen atoms. We are interested in finding the **ground state** of the $ H_2 $ molecule. To achieve this, we can use the **Variational Quantum Eigensolver (VQE)** algorithm to find this ground state.\n",
        "\n",
        "The VQE is a hybrid quantum-classical algorithm designed to find the minimum energy (ground state) of quantum systems. It works by parameterizing a quantum circuit (ansatz) to prepare quantum states. The parameters of this circuit are iteratively adjusted by a classical optimizer to minimize the expected value of the system's energy, calculated from the Hamiltonian. In this way, the VQE combines quantum and classical resources to efficiently solve complex quantum mechanical problems.\n",
        "\n",
        "In the context of $H_2 $, it is necessary to find the Hamiltonian of this molecule, which can be written as:\n",
        "\n",
        "$\n",
        "H = \\sum_{p,q} h_{pq} a_p^\\dagger a_q + \\frac{1}{2} \\sum_{p,q,r,s} h_{pqrs} a_p^\\dagger a_q^\\dagger a_r a_s\n",
        "$\n",
        "\n",
        "Where \\( h_{pq} \\) and \\( h_{pqrs} \\) are solutions to the following integrals:\n",
        "\n",
        "$\n",
        "h_{pq} = \\int dx\\, \\phi_p^*(x) \\left( -\\frac{\\nabla^2}{2} - \\sum_{i=1}^N \\frac{Z_i}{|x - R_i|} \\right) \\phi_q(x)\n",
        "$\n",
        "\n",
        "$\n",
        "h_{pqrs} = \\int dx_1 dx_2\\, \\phi_p^*(x_1) \\phi_q^*(x_2) \\frac{1}{|x_1 - x_2|} \\phi_r(x_2) \\phi_s(x_1)\n",
        "$\n",
        "\n",
        "**Note:** The Hamiltonian is given in terms of **fermionic operators** $ a_p^\\dagger $ and $ a_q $, which describe the creation and annihilation of fermions (electrons). However, when working with quantum computing, these operators are incompatible with quantum logic gates. Therefore, it is necessary to **map** these fermionic operators into qubit operators that can be implemented using quantum gates.\n",
        "\n",
        "There are several types of mappings, but the Jordan-Wigner transformation is recommended here. We can perform this mapping explicitly using `qml.qchem.Molecule()` from the PennyLane library, where we configure the parameters as:\n",
        "\n",
        "```python\n",
        "# Define fixed molecular parameters\n",
        "coordinates = pnp.array([[x1, y1, z1], [x2, y2, z2]])\n",
        "charge = 0\n",
        "symbols = ['H', 'H']\n",
        "multiplicity = 1\n",
        "basis_set = \"sto-3g\"\n",
        "electrons = 2\n",
        "```\n",
        "\n",
        "Then, we explicitly specify the Jordan-Wigner transformation in the function that generates the Hamiltonian:\n",
        "\n",
        "```python\n",
        "# Generate the molecular Hamiltonian and the necessary number of qubits\n",
        "H, qubits = qchem.molecular_hamiltonian(\n",
        "    molecule.symbols, molecule.coordinates, name=\"h2\",\n",
        "    charge=molecule.charge, mult=molecule.mult, basis=molecule.basis_name, mapping='jordan_wigner'\n",
        ")\n",
        "```\n",
        "\n",
        "With the Hamiltonian in hand, we can proceed with the optimization procedure, which consists of:\n",
        "\n",
        "1. **Finding a good ansatz:** This can be done using the method `qml.qchem.hf_state` to generate the Hartree-Fock state, which serves as a starting point for the optimization.\n",
        "\n",
        "2. **Preparing a circuit with this state:** We define a quantum circuit that prepares the Hartree-Fock state and applies parameterized quantum gates to explore the state space.\n",
        "\n",
        "3. **Calculating the expected value of the Hamiltonian:** We measure the expectation value of the Hamiltonian for the state prepared by the circuit, which depends on the parameters we are optimizing.\n",
        "\n",
        "Here's how we implement this in code:\n",
        "\n",
        "```python\n",
        "# Initial Hartree-Fock state\n",
        "hf = qml.qchem.hf_state(electrons, qubits)\n",
        "\n",
        "# Define the quantum device\n",
        "dev = qml.device(\"default.qubit\", wires=qubits)\n",
        "\n",
        "# Parametrized quantum circuit\n",
        "@qml.qnode(dev, interface=\"jax\")\n",
        "def circuit_base(param, wires):\n",
        "    qml.BasisState(hf, wires=wires)\n",
        "    qml.DoubleExcitation(param, wires=[0, 1, 2, 3])\n",
        "    return qml.expval(H)\n",
        "```\n",
        "\n",
        "- `qml.BasisState(hf, wires=wires)`: Prepares the Hartree-Fock state on the qubits.\n",
        "- `qml.DoubleExcitation(param, wires=[0, 1, 2, 3])`: Applies a parameterized double excitation gate, allowing us to capture electron correlation beyond the Hartree-Fock approximation.\n",
        "- `qml.expval(H)`: Measures the expected value of the Hamiltonian \\( H \\) for the current state.\n",
        "\n",
        "We define the cost function and set up the optimization:\n",
        "\n",
        "```python\n",
        "# Cost function for optimization\n",
        "def cost_fn(param):\n",
        "    return circuit_base(param, wires=range(qubits))\n",
        "\n",
        "# Optimization parameters\n",
        "max_iterations = 100\n",
        "conv_tol = 1e-07\n",
        "opt = optax.sgd(learning_rate=0.4)\n",
        "theta = np.array(0.0)\n",
        "\n",
        "# Store energy values and angles\n",
        "energy = [cost_fn(theta)]\n",
        "angle = [theta]\n",
        "opt_state = opt.init(theta)\n",
        "\n",
        "# Optimization loop\n",
        "for n in range(max_iterations):\n",
        "    gradient = jax.grad(cost_fn)(theta)\n",
        "    updates, opt_state = opt.update(gradient, opt_state)\n",
        "    theta = optax.apply_updates(theta, updates)\n",
        "\n",
        "    angle.append(theta)\n",
        "    energy.append(cost_fn(theta))\n",
        "\n",
        "    conv = np.abs(energy[-1] - energy[-2])\n",
        "\n",
        "    if conv <= conv_tol:\n",
        "        break\n",
        "```\n",
        "\n",
        "- `jax.grad(cost_fn)(theta)`: Computes the gradient of the cost function with respect to the parameter `theta`.\n",
        "- The optimizer adjusts `theta` to minimize the energy calculated by the circuit.\n",
        "- The loop continues until the change in energy between iterations is less than the convergence tolerance `conv_tol`.\n",
        "\n"
      ],
      "metadata": {
        "id": "seqdYTEAIuLy"
      }
    },
    {
      "cell_type": "markdown",
      "source": [
        "# Explanation of why the Pauli-Z is necessary in the Jordan-Wigner transformation\n",
        "\n",
        "**It's because we need to preserve the anticommutation relation, which is very important for performing the correct simulation.**\n",
        "\n",
        "\n"
      ],
      "metadata": {
        "id": "-y0Ut9IuVmXh"
      }
    },
    {
      "cell_type": "markdown",
      "source": [
        "## Code section"
      ],
      "metadata": {
        "id": "s5vRJlKFW3jX"
      }
    },
    {
      "cell_type": "code",
      "source": [
        "import pennylane as qml\n",
        "from pennylane import qchem\n",
        "import pennylane.numpy as pnp\n",
        "from jax import numpy as np\n",
        "import jax\n",
        "import optax\n",
        "import warnings\n",
        "\n",
        "def VQE(x1, y1, z1, x2, y2, z2):\n",
        "    \"\"\"\n",
        "    Perform the Variational Quantum Eigensolver (VQE) algorithm to find the\n",
        "    ground state energy of a molecular system given the coordinates of its atoms.\n",
        "\n",
        "    Args:\n",
        "        x1, y1, z1: Coordinates of the first atom (floats).\n",
        "        x2, y2, z2: Coordinates of the second atom (floats).\n",
        "\n",
        "    Returns:\n",
        "        float: The converged energy of the molecule in Hartree.\n",
        "    \"\"\"\n",
        "    # Convert coordinates to a PennyLane-compatible NumPy array\n",
        "    coordinates = pnp.array([[x1, y1, z1], [x2, y2, z2]])\n",
        "\n",
        "    # Define fixed molecular parameters\n",
        "    charge = 0\n",
        "    symbols = ['H', 'H']\n",
        "    multiplicity = 1\n",
        "    basis_set = \"sto-3g\"\n",
        "    electrons = 2\n",
        "\n",
        "    # Create the molecule object\n",
        "    molecule = qml.qchem.Molecule(\n",
        "        symbols,\n",
        "        coordinates,\n",
        "        charge=charge,\n",
        "        mult=multiplicity,\n",
        "        basis_name=basis_set\n",
        "    )\n",
        "\n",
        "    # Generate the molecular Hamiltonian and the necessary number of qubits\n",
        "    H, qubits = qchem.molecular_hamiltonian(\n",
        "        molecule.symbols, molecule.coordinates, name=\"h2\",\n",
        "        charge=molecule.charge, mult=molecule.mult, basis=molecule.basis_name, mapping='jordan_wigner'\n",
        "    )\n",
        "\n",
        "    # Initial Hartree-Fock state\n",
        "    hf = qml.qchem.hf_state(electrons, qubits)\n",
        "\n",
        "    # Define the quantum device\n",
        "    dev = qml.device(\"default.qubit\", wires=qubits)\n",
        "\n",
        "    # Parametrized quantum circuit\n",
        "    @qml.qnode(dev, interface=\"jax\")\n",
        "    def circuit_base(param, wires):\n",
        "        qml.BasisState(hf, wires=wires)\n",
        "        qml.DoubleExcitation(param, wires=[0, 1, 2, 3])\n",
        "        return qml.expval(H)\n",
        "\n",
        "    # Cost function for optimization\n",
        "    def cost_fn(param):\n",
        "        return circuit_base(param, wires=range(qubits))\n",
        "\n",
        "    # Optimization parameters\n",
        "    max_iterations = 100\n",
        "    conv_tol = 1e-07\n",
        "    opt = optax.sgd(learning_rate=0.4)\n",
        "    theta = np.array(0.0)\n",
        "\n",
        "    # Store energy values and angles\n",
        "    energy = [cost_fn(theta)]\n",
        "    angle = [theta]\n",
        "    opt_state = opt.init(theta)\n",
        "\n",
        "    # Optimization loop\n",
        "    for n in range(max_iterations):\n",
        "        gradient = jax.grad(cost_fn)(theta)\n",
        "        updates, opt_state = opt.update(gradient, opt_state)\n",
        "        theta = optax.apply_updates(theta, updates)\n",
        "\n",
        "        angle.append(theta)\n",
        "        energy.append(cost_fn(theta))\n",
        "\n",
        "        conv = np.abs(energy[-1] - energy[-2])\n",
        "\n",
        "        if conv <= conv_tol:\n",
        "            break\n",
        "\n",
        "    # Return the converged energy\n",
        "    return energy[-1]\n",
        "\n",
        "# Suppress warnings from PennyLane and JAX\n",
        "warnings.filterwarnings(\"ignore\", category=UserWarning, module=\"pennylane\")\n",
        "warnings.filterwarnings(\"ignore\", category=UserWarning, module=\"jax\")\n",
        "\n",
        "# Suppress ComplexWarning warnings\n",
        "warnings.filterwarnings(\"ignore\", category=np.ComplexWarning)\n",
        "\n",
        "# Define new coordinates for the hydrogen molecule\n",
        "new_coordinates = (0, 0, -0.6614, 0, 0, 0.6614)\n",
        "converged_energy = VQE(*new_coordinates)\n",
        "\n"
      ],
      "metadata": {
        "id": "V7VKNIEFapS7",
        "colab": {
          "base_uri": "https://localhost:8080/"
        },
        "outputId": "5cc2a617-b167-4a39-a0b1-733aca47522f"
      },
      "execution_count": 11,
      "outputs": [
        {
          "output_type": "stream",
          "name": "stdout",
          "text": [
            "Converged Energy: -1.13618922\n"
          ]
        }
      ]
    },
    {
      "cell_type": "code",
      "source": [
        "print(f\"Converged Energy: {converged_energy:.8f}\")"
      ],
      "metadata": {
        "colab": {
          "base_uri": "https://localhost:8080/"
        },
        "id": "cbQxc1S-C7MW",
        "outputId": "81e06815-01f7-4c4e-c0a7-30cce2315bf1"
      },
      "execution_count": 12,
      "outputs": [
        {
          "output_type": "stream",
          "name": "stdout",
          "text": [
            "Converged Energy: -1.13618922\n"
          ]
        }
      ]
    },
    {
      "cell_type": "code",
      "source": [],
      "metadata": {
        "id": "2jiGfsNkT9hz"
      },
      "execution_count": null,
      "outputs": []
    }
  ]
}