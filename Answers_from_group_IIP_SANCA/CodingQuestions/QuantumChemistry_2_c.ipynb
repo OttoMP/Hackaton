{
  "cells": [
    {
      "cell_type": "code",
      "execution_count": 1,
      "metadata": {
        "colab": {
          "base_uri": "https://localhost:8080/"
        },
        "id": "fBZdR1POFnUR",
        "outputId": "a29dc4fb-a476-4210-966a-8b0c8c3d90fd"
      },
      "outputs": [
        {
          "output_type": "stream",
          "name": "stdout",
          "text": [
            "Collecting pennylane\n",
            "  Downloading PennyLane-0.38.0-py3-none-any.whl.metadata (9.3 kB)\n",
            "Requirement already satisfied: numpy<2.0 in /usr/local/lib/python3.10/dist-packages (from pennylane) (1.26.4)\n",
            "Requirement already satisfied: scipy in /usr/local/lib/python3.10/dist-packages (from pennylane) (1.13.1)\n",
            "Requirement already satisfied: networkx in /usr/local/lib/python3.10/dist-packages (from pennylane) (3.4)\n",
            "Collecting rustworkx>=0.14.0 (from pennylane)\n",
            "  Downloading rustworkx-0.15.1-cp38-abi3-manylinux_2_17_x86_64.manylinux2014_x86_64.whl.metadata (9.9 kB)\n",
            "Requirement already satisfied: autograd in /usr/local/lib/python3.10/dist-packages (from pennylane) (1.7.0)\n",
            "Requirement already satisfied: toml in /usr/local/lib/python3.10/dist-packages (from pennylane) (0.10.2)\n",
            "Collecting appdirs (from pennylane)\n",
            "  Downloading appdirs-1.4.4-py2.py3-none-any.whl.metadata (9.0 kB)\n",
            "Collecting autoray>=0.6.11 (from pennylane)\n",
            "  Downloading autoray-0.6.12-py3-none-any.whl.metadata (5.7 kB)\n",
            "Requirement already satisfied: cachetools in /usr/local/lib/python3.10/dist-packages (from pennylane) (5.5.0)\n",
            "Collecting pennylane-lightning>=0.38 (from pennylane)\n",
            "  Downloading PennyLane_Lightning-0.38.0-cp310-cp310-manylinux_2_28_x86_64.whl.metadata (26 kB)\n",
            "Requirement already satisfied: requests in /usr/local/lib/python3.10/dist-packages (from pennylane) (2.32.3)\n",
            "Requirement already satisfied: typing-extensions in /usr/local/lib/python3.10/dist-packages (from pennylane) (4.12.2)\n",
            "Requirement already satisfied: packaging in /usr/local/lib/python3.10/dist-packages (from pennylane) (24.1)\n",
            "Requirement already satisfied: charset-normalizer<4,>=2 in /usr/local/lib/python3.10/dist-packages (from requests->pennylane) (3.4.0)\n",
            "Requirement already satisfied: idna<4,>=2.5 in /usr/local/lib/python3.10/dist-packages (from requests->pennylane) (3.10)\n",
            "Requirement already satisfied: urllib3<3,>=1.21.1 in /usr/local/lib/python3.10/dist-packages (from requests->pennylane) (2.2.3)\n",
            "Requirement already satisfied: certifi>=2017.4.17 in /usr/local/lib/python3.10/dist-packages (from requests->pennylane) (2024.8.30)\n",
            "Downloading PennyLane-0.38.0-py3-none-any.whl (1.9 MB)\n",
            "\u001b[2K   \u001b[90m━━━━━━━━━━━━━━━━━━━━━━━━━━━━━━━━━━━━━━━━\u001b[0m \u001b[32m1.9/1.9 MB\u001b[0m \u001b[31m10.3 MB/s\u001b[0m eta \u001b[36m0:00:00\u001b[0m\n",
            "\u001b[?25hDownloading autoray-0.6.12-py3-none-any.whl (50 kB)\n",
            "\u001b[2K   \u001b[90m━━━━━━━━━━━━━━━━━━━━━━━━━━━━━━━━━━━━━━━━\u001b[0m \u001b[32m51.0/51.0 kB\u001b[0m \u001b[31m2.9 MB/s\u001b[0m eta \u001b[36m0:00:00\u001b[0m\n",
            "\u001b[?25hDownloading PennyLane_Lightning-0.38.0-cp310-cp310-manylinux_2_28_x86_64.whl (15.3 MB)\n",
            "\u001b[2K   \u001b[90m━━━━━━━━━━━━━━━━━━━━━━━━━━━━━━━━━━━━━━━━\u001b[0m \u001b[32m15.3/15.3 MB\u001b[0m \u001b[31m24.3 MB/s\u001b[0m eta \u001b[36m0:00:00\u001b[0m\n",
            "\u001b[?25hDownloading rustworkx-0.15.1-cp38-abi3-manylinux_2_17_x86_64.manylinux2014_x86_64.whl (2.0 MB)\n",
            "\u001b[2K   \u001b[90m━━━━━━━━━━━━━━━━━━━━━━━━━━━━━━━━━━━━━━━━\u001b[0m \u001b[32m2.0/2.0 MB\u001b[0m \u001b[31m50.5 MB/s\u001b[0m eta \u001b[36m0:00:00\u001b[0m\n",
            "\u001b[?25hDownloading appdirs-1.4.4-py2.py3-none-any.whl (9.6 kB)\n",
            "Installing collected packages: appdirs, rustworkx, autoray, pennylane-lightning, pennylane\n",
            "Successfully installed appdirs-1.4.4 autoray-0.6.12 pennylane-0.38.0 pennylane-lightning-0.38.0 rustworkx-0.15.1\n"
          ]
        }
      ],
      "source": [
        "!pip install pennylane"
      ]
    },
    {
      "cell_type": "code",
      "execution_count": 2,
      "metadata": {
        "id": "IwgWtUTYFnUT"
      },
      "outputs": [],
      "source": [
        "import pennylane as qml\n",
        "import pennylane.numpy as np"
      ]
    },
    {
      "cell_type": "markdown",
      "metadata": {
        "id": "zt8qsbGRFnUU"
      },
      "source": [
        "To implement this evolution, it is necessary to find the $U(t)$ for the Hamiltonian as combinations of quantum gates. In this way, we derived the following expression for $U(t)$:\n",
        "\n",
        "$$\n",
        "U(t) \\approx \\prod_{l=1}^n C_{\\text{not}0,1} (R_x(2\\theta\\alpha) \\otimes I) C_{\\text{not}0,1} C_{\\text{not}1,0} (R_z(2\\theta\\beta) \\otimes I) C_{\\text{not}1,0}\n",
        "$$\n",
        "\n",
        "The steps of the solution can be found in the final of the notebook"
      ]
    },
    {
      "cell_type": "code",
      "execution_count": 3,
      "metadata": {
        "id": "HmzJkb9LFnUV"
      },
      "outputs": [],
      "source": [
        "def evolution(alpha, beta, t, n):\n",
        "    \"\"\"\n",
        "    Simulates the quantum evolution of a two-qubit system under the influence of a Hamiltonian,\n",
        "    H = α X⊗X + β Z⊗Z, using the Trotter-Suzuki decomposition.\n",
        "\n",
        "    The Hamiltonian is decomposed into a sequence of quantum gates that approximate\n",
        "    the unitary evolution operator U(t) = exp(-i H t) over a specified time interval `t`.\n",
        "\n",
        "    Parameters:\n",
        "    - alpha (float): Coefficient for the X⊗X term in the Hamiltonian.\n",
        "    - beta (float): Coefficient for the Z⊗Z term in the Hamiltonian.\n",
        "    - t (float): Total time of the evolution.\n",
        "    - n (int): Number of Trotter steps.\n",
        "\n",
        "    Returns:\n",
        "    - np.ndarray: Probability distribution of the quantum state after evolution.\n",
        "\n",
        "    The function uses Pennylane to create and execute a quantum circuit on the 'default.qubit'\n",
        "    device. It returns the probability distribution of the state over the computational basis\n",
        "    at the end of the evolution.\n",
        "\n",
        "    The circuit consists of `n` repetitions of two sequences:\n",
        "    1. A CNOT gate followed by an RX rotation and another CNOT gate to implement\n",
        "       the unitary corresponding to exp(-i α θ X⊗X), where θ = t / n.\n",
        "    2. A CNOT gate followed by an RZ rotation and another CNOT gate to implement\n",
        "       the unitary corresponding to exp(-i β θ Z⊗Z).\n",
        "\n",
        "    Example:\n",
        "    >>> alpha = 0.5\n",
        "    >>> beta = 0.3\n",
        "    >>> t = 1.0\n",
        "    >>> n = 10\n",
        "    >>> probs = evolution(alpha, beta, t, n)\n",
        "    >>> print(probs)\n",
        "    \"\"\"\n",
        "    dev = qml.device('default.qubit', wires=2)\n",
        "    @qml.qnode(dev)\n",
        "    def circuit():\n",
        "        theta = t / n\n",
        "        for _ in range(n):\n",
        "            # Implement exp(-i α θ X⊗X)\n",
        "            qml.CNOT(wires=[0,1])\n",
        "            qml.RX(2 * alpha * theta, wires=1)\n",
        "            qml.CNOT(wires=[0,1])\n",
        "\n",
        "            # Implement exp(-i β θ Z⊗Z)\n",
        "            qml.CNOT(wires=[1,0])\n",
        "            qml.RZ(2 * beta * theta, wires=0)\n",
        "            qml.CNOT(wires=[1,0])\n",
        "\n",
        "        return qml.probs(wires=[0,1])\n",
        "\n",
        "    return circuit()\n"
      ]
    },
    {
      "cell_type": "code",
      "execution_count": 4,
      "metadata": {
        "colab": {
          "base_uri": "https://localhost:8080/"
        },
        "id": "PzYAPdd3FnUW",
        "outputId": "4b6f77c7-c724-461e-d22e-412bb2d94dee"
      },
      "outputs": [
        {
          "output_type": "execute_result",
          "data": {
            "text/plain": [
              "tensor([0.99003329, 0.00996671, 0.        , 0.        ], requires_grad=True)"
            ]
          },
          "metadata": {},
          "execution_count": 4
        }
      ],
      "source": [
        "test_input =  [0.5,0.8,0.2,1]\n",
        "\n",
        "evolution(0.5,0.8,0.2,1)"
      ]
    },
    {
      "cell_type": "markdown",
      "metadata": {
        "id": "ugGIrdenFnUX"
      },
      "source": [
        "My Hamiltonian is given by:\n",
        "\n",
        "$$\n",
        "H = \\alpha X\\otimes X + \\beta Z \\otimes Z\n",
        "$$\n",
        "(1)\n",
        "\n",
        "From the Trotter relation we have:\n",
        "\n",
        "$$\n",
        "e^{A+B} = \\lim_{n \\to \\infty} (e^{\\frac{A}{n}} e^{\\frac{B}{n}})^n\n",
        "$$\n",
        "(1.1)\n",
        "\n",
        "For our case interest, we get:\n",
        "\n",
        "$$\n",
        "e^{-iHt} = \\lim_{n \\to \\infty} (e^{\\frac{-iHt}{n}})^n\n",
        "$$\n",
        "(1.2)\n",
        "\n",
        "Where\n",
        "$$\n",
        "H_1 = \\alpha X\\otimes X \\quad \\text{and} \\quad H_2 = \\beta Z \\otimes Z\n",
        "$$\n",
        "\n",
        "From the temporal evolution, we have:\n",
        "\n",
        "$$\n",
        "U(t) = e^{-iHt}\n",
        "$$\n",
        "(1.3)\n",
        "\n",
        "In our case, we have:\n",
        "\n",
        "$$\n",
        "U(t) = e^{-i(H_1+H_2)t}\n",
        "$$\n",
        "(1.4)\n",
        "\n",
        "Thus, we can rewrite (1.4) as:\n",
        "\n",
        "$$\n",
        "U(t) = \\lim_{n \\to \\infty} \\left(e^{-\\frac{iH_1t}{n}} e^{-\\frac{iH_2t}{n}}\\right)^n\n",
        "$$\n",
        "(1.5)\n"
      ]
    },
    {
      "cell_type": "markdown",
      "metadata": {
        "id": "6ZqQV_JwFnUX"
      },
      "source": [
        "To develop intuition, consdider the case of n=2. In this way, we have:\n",
        "$$\n",
        "\\left(e^{iH_1t + iH_2t}\\right)^2 = \\left(e^{-\\frac{iH_1t}{2}} e^{-\\frac{iH_2t}{2}}\\right)\\left(e^{-\\frac{iH_1t}{2}} e^{-\\frac{iH_2t}{2}}\\right)\n",
        "$$\n",
        "(1.6)\n",
        "\n",
        "Considering an solution for finit n, we can rewrite the equation (1.5) as:\n",
        "$$\n",
        "U(t) \\approx \\prod_{i=1}^n e^{-iH_1\\theta} e^{-iH_2\\theta}\n",
        "$$\n",
        "(1.7)\n",
        "\n",
        "\n",
        "Where  $$\\theta = \\frac{t}{n}$$. Furthermore, we can massage equation (1.7) and rewrite it in the following way:\n",
        "\n",
        "$$\n",
        "    U(t) \\approx \\prod_{i=1}^n \\prod_{j=1}^2 e^{-iH_j\\theta}\n",
        "$$\n",
        "(1.8)\n",
        "However, we return to our interests. Note that:\n",
        "$$\n",
        "H_1 = \\alpha X \\otimes X,\n",
        "$$\n",
        "and can be written as:\n",
        "$$\n",
        "H_1 = \\alpha C_{\\text{not}0,1} (X \\otimes I) C_{\\text{not}0,1}\n",
        "$$\n",
        "(1.9)\n",
        "in a similar way, we have :\n",
        "\n",
        "\n",
        "$$\n",
        "H_2 = \\beta C_{\\text{not}1,0} (Z \\otimes I) C_{\\text{not}1,0}\n",
        "$$\n",
        "(1.10)\n",
        "\n",
        "Applying it in (1.8) eqaution we obtain the followiing expression:\n",
        "$$\n",
        "U(t) \\approx \\prod_{i=1}^n \\exp\\left(-i\\alpha\\theta C_{\\text{not } 0,1} (X \\otimes I) C_{\\text{not } 0,1}\\right)\\exp\\left(-i\\beta\\theta C_{\\text{not } 1,0} (Z \\otimes I) C_{\\text{not } 1,0}\\right)\n",
        "$$\n",
        "(1.11)\n"
      ]
    },
    {
      "cell_type": "markdown",
      "metadata": {
        "id": "BVTiXqLbFnUX"
      },
      "source": [
        "going further, we can use the following expression:\n",
        "$$\n",
        "e^{-i\\theta U^\\dagger A U} = U^\\dagger e^{-i\\theta A} U\n",
        "$$\n",
        "(1.12)\n",
        "\n",
        "In this way, for \\(H_1\\) we have:\n",
        "$$\n",
        "\\exp\\left(-i\\alpha\\theta C_{\\text{not } 0,1} (X \\otimes I) C_{\\text{not } 0,1}\\right) = C_{\\text{not } 0,1} \\exp\\left(-i\\alpha\\left(X \\otimes I\\right)\\right) C_{\\text{not } 0,1}\n",
        "$$\n",
        "(1.13)\n",
        "\n",
        "that is, we have to:\n",
        "\n",
        "$$\n",
        "\\exp\\left(-i\\alpha\\theta C_{\\text{not } 0,1} (X \\otimes I) C_{\\text{not } 0,1}\\right) = C_{\\text{not } 0,1}\\left(R_x(2\\theta\\alpha)\\right)C_{\\text{not } 0,1}\n",
        "$$\n",
        "\n",
        "(1.14)\n",
        "and of course, we have a similar term for $H_2$. So, in this way we can express the temporal evolution as:\n",
        "\n",
        "\n",
        "$$\n",
        "U(t) \\approx \\prod_{l=1}^n C_{\\text{not}0,1} (R_x(2\\theta\\alpha) \\otimes I) C_{\\text{not}0,1} C_{\\text{not}1,0} (R_z(2\\theta\\beta) \\otimes I) C_{\\text{not}1,0}\n",
        "$$\n",
        "(1.15)\n"
      ]
    },
    {
      "cell_type": "code",
      "execution_count": null,
      "metadata": {
        "id": "-z9cydMmFnUX"
      },
      "outputs": [],
      "source": []
    }
  ],
  "metadata": {
    "kernelspec": {
      "display_name": "Python 3",
      "language": "python",
      "name": "python3"
    },
    "language_info": {
      "codemirror_mode": {
        "name": "ipython",
        "version": 3
      },
      "file_extension": ".py",
      "mimetype": "text/x-python",
      "name": "python",
      "nbconvert_exporter": "python",
      "pygments_lexer": "ipython3",
      "version": "3.11.9"
    },
    "colab": {
      "provenance": []
    }
  },
  "nbformat": 4,
  "nbformat_minor": 0
}