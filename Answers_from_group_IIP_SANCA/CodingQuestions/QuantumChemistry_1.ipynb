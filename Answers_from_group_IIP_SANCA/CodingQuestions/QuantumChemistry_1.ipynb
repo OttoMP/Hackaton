{
  "nbformat": 4,
  "nbformat_minor": 0,
  "metadata": {
    "colab": {
      "provenance": []
    },
    "kernelspec": {
      "name": "python3",
      "display_name": "Python 3"
    },
    "language_info": {
      "name": "python"
    }
  },
  "cells": [
    {
      "cell_type": "markdown",
      "source": [
        "##Introduction to Applications of Quantum Computing to Quantum Chemistry\n",
        "\n",
        "###Exercise (1)\n",
        "To solve the exercise, implement the following Hamiltonian in a function `hamiltonian()`, given the number of qubits `n_qubits` as argument:\n",
        "$$\n",
        "H = \\frac{1}{3}\\sum_{i<j}X_iX_j - \\sum_{i=0}{Z_i}\n",
        "$$\n",
        "\n",
        "Then, create a function `circuit()`, given the `n_qubits` as an argument, that applies the Hadamard gate to each wire and calculates the expected value of the defined Hamiltonian. As default, all initialized qubits in pennylane start in the state of |0>."
      ],
      "metadata": {
        "id": "ksnGWbx1IB9F"
      }
    },
    {
      "cell_type": "code",
      "source": [
        "!pip install pennylane"
      ],
      "metadata": {
        "colab": {
          "base_uri": "https://localhost:8080/"
        },
        "id": "HiiSy9nT7huG",
        "outputId": "df541e68-db39-4b93-db18-d16e7bac281a"
      },
      "execution_count": 17,
      "outputs": [
        {
          "output_type": "stream",
          "name": "stdout",
          "text": [
            "Requirement already satisfied: pennylane in /usr/local/lib/python3.10/dist-packages (0.38.0)\n",
            "Requirement already satisfied: numpy<2.0 in /usr/local/lib/python3.10/dist-packages (from pennylane) (1.26.4)\n",
            "Requirement already satisfied: scipy in /usr/local/lib/python3.10/dist-packages (from pennylane) (1.13.1)\n",
            "Requirement already satisfied: networkx in /usr/local/lib/python3.10/dist-packages (from pennylane) (3.4)\n",
            "Requirement already satisfied: rustworkx>=0.14.0 in /usr/local/lib/python3.10/dist-packages (from pennylane) (0.15.1)\n",
            "Requirement already satisfied: autograd in /usr/local/lib/python3.10/dist-packages (from pennylane) (1.7.0)\n",
            "Requirement already satisfied: toml in /usr/local/lib/python3.10/dist-packages (from pennylane) (0.10.2)\n",
            "Requirement already satisfied: appdirs in /usr/local/lib/python3.10/dist-packages (from pennylane) (1.4.4)\n",
            "Requirement already satisfied: autoray>=0.6.11 in /usr/local/lib/python3.10/dist-packages (from pennylane) (0.6.12)\n",
            "Requirement already satisfied: cachetools in /usr/local/lib/python3.10/dist-packages (from pennylane) (5.5.0)\n",
            "Requirement already satisfied: pennylane-lightning>=0.38 in /usr/local/lib/python3.10/dist-packages (from pennylane) (0.38.0)\n",
            "Requirement already satisfied: requests in /usr/local/lib/python3.10/dist-packages (from pennylane) (2.32.3)\n",
            "Requirement already satisfied: typing-extensions in /usr/local/lib/python3.10/dist-packages (from pennylane) (4.12.2)\n",
            "Requirement already satisfied: packaging in /usr/local/lib/python3.10/dist-packages (from pennylane) (24.1)\n",
            "Requirement already satisfied: charset-normalizer<4,>=2 in /usr/local/lib/python3.10/dist-packages (from requests->pennylane) (3.4.0)\n",
            "Requirement already satisfied: idna<4,>=2.5 in /usr/local/lib/python3.10/dist-packages (from requests->pennylane) (3.10)\n",
            "Requirement already satisfied: urllib3<3,>=1.21.1 in /usr/local/lib/python3.10/dist-packages (from requests->pennylane) (2.2.3)\n",
            "Requirement already satisfied: certifi>=2017.4.17 in /usr/local/lib/python3.10/dist-packages (from requests->pennylane) (2024.8.30)\n"
          ]
        }
      ]
    },
    {
      "cell_type": "code",
      "source": [
        "# Import the libraries\n",
        "import pennylane as qml"
      ],
      "metadata": {
        "id": "CxQSqIOH7paT"
      },
      "execution_count": 8,
      "outputs": []
    },
    {
      "cell_type": "code",
      "source": [
        "# Define the Hamiltonian, given the number of qubits (n_qubits)\n",
        "def hamiltonian(n_qubits):\n",
        "\n",
        "    result_X = 0\n",
        "    result_Z = 0\n",
        "\n",
        "    for i in range(n_qubits):\n",
        "\n",
        "        # Summing the X terms\n",
        "        for j in range(i):\n",
        "            result_X += qml.PauliX(i)@qml.PauliX(j)\n",
        "\n",
        "        # Summing the Z terms\n",
        "        result_Z += qml.PauliZ(i)\n",
        "\n",
        "    # Multiplying the X term by the leading constant\n",
        "    result_X *= 1/3\n",
        "\n",
        "    return result_X - result_Z"
      ],
      "metadata": {
        "id": "CE7e36ZOeCRl"
      },
      "execution_count": 9,
      "outputs": []
    },
    {
      "cell_type": "code",
      "source": [
        "# Choose the input number of qubits\n",
        "n_qubits = 2\n",
        "\n",
        "# Create the device\n",
        "dev = qml.device(\"default.qubit\", wires=n_qubits)\n",
        "\n",
        "@qml.qnode(dev)\n",
        "def circuit(n_qubits):\n",
        "\n",
        "    #Operate Hadamard in each qubit(wire)\n",
        "    qml.broadcast(unitary=qml.Hadamard, pattern=\"single\", wires=dev.wires)\n",
        "\n",
        "    # Get the expected value of the hamiltonian of n qubits\n",
        "\n",
        "    return qml.expval(hamiltonian(n_qubits))\n",
        "\n",
        "# Print the result\n",
        "print(circuit(n_qubits))\n",
        "\n",
        "# Draw the circuit\n",
        "qml.drawer.use_style(\"black_white\")\n",
        "qml.draw_mpl(circuit)(n_qubits)"
      ],
      "metadata": {
        "colab": {
          "base_uri": "https://localhost:8080/",
          "height": 373
        },
        "id": "yB7hZjf9fzxW",
        "outputId": "f2a81c49-f53e-4eba-f3d1-f76124187545"
      },
      "execution_count": 16,
      "outputs": [
        {
          "output_type": "stream",
          "name": "stdout",
          "text": [
            "0.3333333333333331\n"
          ]
        },
        {
          "output_type": "execute_result",
          "data": {
            "text/plain": [
              "(<Figure size 400x300 with 1 Axes>, <Axes: >)"
            ]
          },
          "metadata": {},
          "execution_count": 16
        },
        {
          "output_type": "display_data",
          "data": {
            "text/plain": [
              "<Figure size 400x300 with 1 Axes>"
            ],
            "image/png": "[encoded data removed]"
          },
          "metadata": {}
        }
      ]
    }
  ]
}