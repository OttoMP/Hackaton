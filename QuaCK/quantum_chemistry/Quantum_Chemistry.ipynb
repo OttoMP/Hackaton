{
  "nbformat": 4,
  "nbformat_minor": 0,
  "metadata": {
    "colab": {
      "provenance": [],
      "collapsed_sections": [
        "_Hyu7bkONRGr",
        "BTy70Z1-hV6w",
        "zw3uf8_ltBBz",
        "zCsRVqBJGhDN"
      ]
    },
    "kernelspec": {
      "name": "python3",
      "display_name": "Python 3"
    },
    "language_info": {
      "name": "python"
    }
  },
  "cells": [
    {
      "cell_type": "markdown",
      "source": [
        "Group: Quantum Computing Knights (QuaCK)\n",
        "\n",
        "Members: Adonai Hilário da Silva, Arthur Dutra de Oliveira, Claudio Alves Pessoa Junior, Gustavo Kerdole Gontijo, Ygor de Castro Lourenço"
      ],
      "metadata": {
        "id": "eZ-S_ok8dznC"
      }
    },
    {
      "cell_type": "markdown",
      "source": [
        "# **\\(1\\) [Exercise]**\n",
        "**Obtaining expectation value of a Hamiltonian**\n",
        "\n"
      ],
      "metadata": {
        "id": "_Hyu7bkONRGr"
      }
    },
    {
      "cell_type": "markdown",
      "source": [
        "Considering the following Hamiltonian:\n",
        "\n",
        "$$K = \\displaystyle\\dfrac{1}{3} \\sum_{i<j} X_iX_j - \\sum_{i=0}^{n-1}Z_i,$$\n",
        "\n",
        "the code must receive the number of qubits and return the expectation value $K$ for $|\\psi⟩$."
      ],
      "metadata": {
        "id": "poCPee-jdixG"
      }
    },
    {
      "cell_type": "code",
      "source": [
        "# Installing required libraries\n",
        "!pip install pennylane"
      ],
      "metadata": {
        "colab": {
          "base_uri": "https://localhost:8080/"
        },
        "id": "ss7wA5g8wJEk",
        "outputId": "3fec80be-28a4-4f01-a8a1-47db2432803c"
      },
      "execution_count": 14,
      "outputs": [
        {
          "output_type": "stream",
          "name": "stdout",
          "text": [
            "Requirement already satisfied: pennylane in /usr/local/lib/python3.10/dist-packages (0.38.0)\n",
            "Requirement already satisfied: numpy<2.0 in /usr/local/lib/python3.10/dist-packages (from pennylane) (1.26.4)\n",
            "Requirement already satisfied: scipy in /usr/local/lib/python3.10/dist-packages (from pennylane) (1.13.1)\n",
            "Requirement already satisfied: networkx in /usr/local/lib/python3.10/dist-packages (from pennylane) (3.4)\n",
            "Requirement already satisfied: rustworkx>=0.14.0 in /usr/local/lib/python3.10/dist-packages (from pennylane) (0.15.1)\n",
            "Requirement already satisfied: autograd in /usr/local/lib/python3.10/dist-packages (from pennylane) (1.7.0)\n",
            "Requirement already satisfied: toml in /usr/local/lib/python3.10/dist-packages (from pennylane) (0.10.2)\n",
            "Requirement already satisfied: appdirs in /usr/local/lib/python3.10/dist-packages (from pennylane) (1.4.4)\n",
            "Requirement already satisfied: autoray>=0.6.11 in /usr/local/lib/python3.10/dist-packages (from pennylane) (0.6.12)\n",
            "Requirement already satisfied: cachetools in /usr/local/lib/python3.10/dist-packages (from pennylane) (5.5.0)\n",
            "Requirement already satisfied: pennylane-lightning>=0.38 in /usr/local/lib/python3.10/dist-packages (from pennylane) (0.38.0)\n",
            "Requirement already satisfied: requests in /usr/local/lib/python3.10/dist-packages (from pennylane) (2.32.3)\n",
            "Requirement already satisfied: typing-extensions in /usr/local/lib/python3.10/dist-packages (from pennylane) (4.12.2)\n",
            "Requirement already satisfied: packaging in /usr/local/lib/python3.10/dist-packages (from pennylane) (24.1)\n",
            "Requirement already satisfied: charset-normalizer<4,>=2 in /usr/local/lib/python3.10/dist-packages (from requests->pennylane) (3.4.0)\n",
            "Requirement already satisfied: idna<4,>=2.5 in /usr/local/lib/python3.10/dist-packages (from requests->pennylane) (3.10)\n",
            "Requirement already satisfied: urllib3<3,>=1.21.1 in /usr/local/lib/python3.10/dist-packages (from requests->pennylane) (2.2.3)\n",
            "Requirement already satisfied: certifi>=2017.4.17 in /usr/local/lib/python3.10/dist-packages (from requests->pennylane) (2024.8.30)\n"
          ]
        }
      ]
    },
    {
      "cell_type": "code",
      "execution_count": 15,
      "metadata": {
        "id": "8JQM9rgkuXHZ"
      },
      "outputs": [],
      "source": [
        "# Import required libraries\n",
        "import pennylane as qml"
      ]
    },
    {
      "cell_type": "code",
      "source": [
        "# Define the Hamiltonian K\n",
        "def Hamiltonian(qubits):\n",
        "\n",
        "  # First sum of X gates\n",
        "  op1 = 0\n",
        "  for j in range(qubits):\n",
        "    for i in range(j):\n",
        "      op1 += qml.PauliX(i) @ qml.PauliX(j)\n",
        "\n",
        "  # Second sum of Z gates\n",
        "  op2 = 0\n",
        "  for i in range(qubits):\n",
        "    op2 += qml.PauliZ(i)\n",
        "\n",
        "  # The final hamiltonian\n",
        "  coeffs = [1/3, -1]\n",
        "  obs = [op1, op2]\n",
        "  return qml.Hamiltonian(coeffs, obs)\n",
        "\n",
        "# The final funtion, that returns the expectation value for a given number\n",
        "# of qubits:\n",
        "\n",
        "def K_exp_value(qubits):\n",
        "  # Define the hamiltonian\n",
        "  K = Hamiltonian(qubits)\n",
        "\n",
        "  # Choosing our device\n",
        "  dev = qml.device(\"default.qubit\", wires=qubits)\n",
        "\n",
        "  # The circuit:\n",
        "  @qml.qnode(dev)\n",
        "  def circuit(qubits, K):\n",
        "    for i in range(qubits):\n",
        "      qml.Hadamard(wires=i) # Applying Hadamard gate to all the qubits\n",
        "\n",
        "    return qml.expval(K)\n",
        "\n",
        "  expectation_value = circuit(qubits, K)\n",
        "  print(f\"The expectation value of K for the final state, with {qubits} qubits is: {expectation_value}\")\n",
        "\n",
        "  # Draw circuit\n",
        "  print(qml.draw_mpl(circuit)(qubits, K))"
      ],
      "metadata": {
        "id": "JoYtuSL_YVEV"
      },
      "execution_count": 16,
      "outputs": []
    },
    {
      "cell_type": "markdown",
      "source": [
        "Testing it for number of qubits equal to 4:"
      ],
      "metadata": {
        "id": "4e0YCxrlbsfs"
      }
    },
    {
      "cell_type": "code",
      "source": [
        "K_exp_value(5)"
      ],
      "metadata": {
        "colab": {
          "base_uri": "https://localhost:8080/",
          "height": 672
        },
        "id": "vGqIbeLFZuUl",
        "outputId": "0b5cd187-624e-490a-9007-32896931a170"
      },
      "execution_count": 17,
      "outputs": [
        {
          "output_type": "stream",
          "name": "stdout",
          "text": [
            "The expectation value of K for the final state, with 5 qubits is: 3.333333333333334\n",
            "(<Figure size 400x600 with 1 Axes>, <Axes: >)\n"
          ]
        },
        {
          "output_type": "display_data",
          "data": {
            "text/plain": [
              "<Figure size 400x600 with 1 Axes>"
            ],
            "image/png": "[encoded data removed]"
          },
          "metadata": {}
        }
      ]
    },
    {
      "cell_type": "markdown",
      "source": [
        "# **\\(2\\) [Challenge] \\(a\\)**\n",
        "**Ground state energy for molecule and spin system with Variational Quantum Algorithms and Trotterization**\n"
      ],
      "metadata": {
        "id": "BTy70Z1-hV6w"
      }
    },
    {
      "cell_type": "markdown",
      "source": [
        "You must implement a function in Pennylane that simulates the Variational Quantum\n",
        "Eigensolver (VQE). This function should take as input a six-entry array of floating-point numbers, representing the x, y and z coordinates of two hydrogen atoms. The first three entries correspond to the coordinates of the first hydrogen atom, and the remaining\n",
        "three entries represent the coordinates of the second hydrogen atom. The function should return the ground state energy of the molecule."
      ],
      "metadata": {
        "id": "14WqRtHJdw4B"
      }
    },
    {
      "cell_type": "code",
      "source": [
        "# Installing required libraries\n",
        "!pip install pennylane"
      ],
      "metadata": {
        "id": "qnrh9WYkhV6x",
        "colab": {
          "base_uri": "https://localhost:8080/"
        },
        "outputId": "1e75655e-baf4-4da0-d5e4-9a91de7b44c2"
      },
      "execution_count": 18,
      "outputs": [
        {
          "output_type": "stream",
          "name": "stdout",
          "text": [
            "Requirement already satisfied: pennylane in /usr/local/lib/python3.10/dist-packages (0.38.0)\n",
            "Requirement already satisfied: numpy<2.0 in /usr/local/lib/python3.10/dist-packages (from pennylane) (1.26.4)\n",
            "Requirement already satisfied: scipy in /usr/local/lib/python3.10/dist-packages (from pennylane) (1.13.1)\n",
            "Requirement already satisfied: networkx in /usr/local/lib/python3.10/dist-packages (from pennylane) (3.4)\n",
            "Requirement already satisfied: rustworkx>=0.14.0 in /usr/local/lib/python3.10/dist-packages (from pennylane) (0.15.1)\n",
            "Requirement already satisfied: autograd in /usr/local/lib/python3.10/dist-packages (from pennylane) (1.7.0)\n",
            "Requirement already satisfied: toml in /usr/local/lib/python3.10/dist-packages (from pennylane) (0.10.2)\n",
            "Requirement already satisfied: appdirs in /usr/local/lib/python3.10/dist-packages (from pennylane) (1.4.4)\n",
            "Requirement already satisfied: autoray>=0.6.11 in /usr/local/lib/python3.10/dist-packages (from pennylane) (0.6.12)\n",
            "Requirement already satisfied: cachetools in /usr/local/lib/python3.10/dist-packages (from pennylane) (5.5.0)\n",
            "Requirement already satisfied: pennylane-lightning>=0.38 in /usr/local/lib/python3.10/dist-packages (from pennylane) (0.38.0)\n",
            "Requirement already satisfied: requests in /usr/local/lib/python3.10/dist-packages (from pennylane) (2.32.3)\n",
            "Requirement already satisfied: typing-extensions in /usr/local/lib/python3.10/dist-packages (from pennylane) (4.12.2)\n",
            "Requirement already satisfied: packaging in /usr/local/lib/python3.10/dist-packages (from pennylane) (24.1)\n",
            "Requirement already satisfied: charset-normalizer<4,>=2 in /usr/local/lib/python3.10/dist-packages (from requests->pennylane) (3.4.0)\n",
            "Requirement already satisfied: idna<4,>=2.5 in /usr/local/lib/python3.10/dist-packages (from requests->pennylane) (3.10)\n",
            "Requirement already satisfied: urllib3<3,>=1.21.1 in /usr/local/lib/python3.10/dist-packages (from requests->pennylane) (2.2.3)\n",
            "Requirement already satisfied: certifi>=2017.4.17 in /usr/local/lib/python3.10/dist-packages (from requests->pennylane) (2024.8.30)\n"
          ]
        }
      ]
    },
    {
      "cell_type": "code",
      "execution_count": 19,
      "metadata": {
        "id": "xLiKfiquhV6x"
      },
      "outputs": [],
      "source": [
        "# Import required libraries\n",
        "import pennylane as qml\n",
        "from pennylane import numpy as pnp"
      ]
    },
    {
      "cell_type": "code",
      "source": [
        "# Definitions\n",
        "\n",
        "# Define variational circuit that prepares ansatze\n",
        "def circuit_H2_VQE(param, wires, initial_state):\n",
        "    #Prepares HF basis state in the circuit to initialize the circuit\n",
        "    qml.BasisState(initial_state, wires=wires)\n",
        "    #Parametrize coupling between HF state and doubly-excited state\n",
        "    qml.DoubleExcitation(param, wires = [0,1,2,3])\n",
        "\n",
        "\n",
        "# Function that uses VQE to find the ground state energy of a given geometry\n",
        "# of a 2 hidrogen molecule\n",
        "\n",
        "def ground_state_energy(coordinates_input):\n",
        "\n",
        "  # Array of positions of the two hidrogen atoms\n",
        "  coordinates = pnp.array([coordinates_input[0:3], coordinates_input[3:6]])\n",
        "  symbols = [\"H\", \"H\"]\n",
        "\n",
        "  # Building the molecular Hamiltonian (in second-quantized form and mapped to qubits via Jordan-Wigner transformation)\n",
        "\n",
        "  # Using: STO-3G basis function set, multiplicity=1, charge=0:\n",
        "  molecule = qml.qchem.Molecule(symbols, coordinates, charge=0, mult=1, basis_name='sto-3g')\n",
        "\n",
        "  # Using Jordan-Wigner mapping:\n",
        "  H, qubits = qml.qchem.molecular_hamiltonian(molecule, mapping='jordan_wigner')\n",
        "\n",
        "  # Create the Hartree-Fock initial state for the molecule\n",
        "  electrons = 2\n",
        "  orbitals = qubits\n",
        "\n",
        "  hf = qml.qchem.hf_state(electrons, orbitals)\n",
        "\n",
        "  # Define device to use\n",
        "  dev = qml.device(\"default.qubit\", wires = qubits)\n",
        "\n",
        "  # Create QNode associated with cost function\n",
        "  @qml.qnode(dev)\n",
        "  def Cost_fn(param, initial_state):\n",
        "\n",
        "      circuit_H2_VQE(param, wires = range(qubits), initial_state=initial_state)\n",
        "\n",
        "      return qml.expval(H)\n",
        "\n",
        "#############################################################################\n",
        "\n",
        "  # Choose an optimizer\n",
        "  opt = qml.GradientDescentOptimizer(stepsize=0.4)\n",
        "\n",
        "  # Choose an initial parameter for the variation circuit (angle of Givens rotation)\n",
        "  theta = pnp.array(2.0, requires_grad=True)\n",
        "\n",
        "  # Cost function\n",
        "  cost_fn = lambda a: Cost_fn(a, hf)\n",
        "  # This was defined this way, so it can be used inside a unique function\n",
        "  # that returns the ground_state_energy\n",
        "\n",
        "  # Store the values of the cost function\n",
        "  energy = [cost_fn(theta)]\n",
        "\n",
        "  # Store the values of the circuit parameter\n",
        "  angle = [theta]\n",
        "\n",
        "  max_interations = 40\n",
        "  conv_tol = 1e-06\n",
        "\n",
        "  # Repetition of optimization until convergence\n",
        "  for n in range(max_interations):\n",
        "\n",
        "      theta, prev_energy = opt.step_and_cost(cost_fn, theta)\n",
        "\n",
        "      energy.append(cost_fn(theta))\n",
        "      angle.append(theta)\n",
        "\n",
        "      conv = pnp.abs(energy[-1] - prev_energy)\n",
        "\n",
        "      if conv <= conv_tol: break\n",
        "\n",
        "  print(\"\\n\" f\"Final value of the ground-state energy = {energy[-1]:.8f} Ha\")\n",
        "  print(\"\\n\" f\"Optimal value of the circuit parameter = {angle[-1]:.4f}\")"
      ],
      "metadata": {
        "id": "Js9_E_0FpM3M"
      },
      "execution_count": 20,
      "outputs": []
    },
    {
      "cell_type": "markdown",
      "source": [
        "Showing the final result below:"
      ],
      "metadata": {
        "id": "ghtC-mXnNXKE"
      }
    },
    {
      "cell_type": "code",
      "source": [
        "coordinates_input = [2,0,1,0,1,-1]\n",
        "ground_state_energy(coordinates_input)"
      ],
      "metadata": {
        "colab": {
          "base_uri": "https://localhost:8080/"
        },
        "id": "EhNSz63XqXIZ",
        "outputId": "a4f4fc0c-66df-4ef9-9a06-32f4929e2dea"
      },
      "execution_count": 21,
      "outputs": [
        {
          "output_type": "stream",
          "name": "stdout",
          "text": [
            "\n",
            "Final value of the ground-state energy = -0.98515244 Ha\n",
            "\n",
            "Optimal value of the circuit parameter = 0.8086\n"
          ]
        }
      ]
    },
    {
      "cell_type": "markdown",
      "source": [
        "Also explain why the Pauli-Z is necessary in Jordan-Wigner transformation.\n",
        "\n",
        "The Jordan-Wigner transformation maps the fermionic Hamiltonian of the molecule into a spin Hamiltonian. In this new description, the Pauli-Z is used to define the spin Hamiltonian, and the spin of the particle is decribe by the eigenstate of the Pauli-Z operator. This is why the Pauli-Z is necessary in Jordan-Wigner transformation."
      ],
      "metadata": {
        "id": "D5kd8PKHsXRZ"
      }
    },
    {
      "cell_type": "markdown",
      "source": [
        "\n",
        "\n",
        "---\n",
        "\n"
      ],
      "metadata": {
        "id": "7Y2gQY7Hs-5v"
      }
    },
    {
      "cell_type": "markdown",
      "source": [
        "# **\\(2\\) [Challenge] \\(b\\)**\n",
        "**Ground state energy for molecule and spin system with Variational Quantum Algorithms and Trotterization**"
      ],
      "metadata": {
        "id": "zw3uf8_ltBBz"
      }
    },
    {
      "cell_type": "markdown",
      "source": [
        "$$H=-\\displaystyle \\sum_{i=1}^{N} {Z_i \\otimes Z_{i+1}} - h \\sum_{i=1}^{N}{X_i}$$\n",
        "\n",
        "You must implement a variational quantum algorithm in Pennylane that, for a given value of the transverse magnetic field h, computes the ground state energy of the spin chain with N = 4 sites. The magnetic field intensity h should be passed as an input to\n",
        "the algorithm."
      ],
      "metadata": {
        "id": "TmjqhYEyTm9t"
      }
    },
    {
      "cell_type": "code",
      "source": [
        "# Installing required libraries\n",
        "!pip install pennylane"
      ],
      "metadata": {
        "id": "NIxj41GM3_sU",
        "colab": {
          "base_uri": "https://localhost:8080/"
        },
        "outputId": "b24af6f9-0c3c-4326-f143-6836bab9c9d0"
      },
      "execution_count": 22,
      "outputs": [
        {
          "output_type": "stream",
          "name": "stdout",
          "text": [
            "Requirement already satisfied: pennylane in /usr/local/lib/python3.10/dist-packages (0.38.0)\n",
            "Requirement already satisfied: numpy<2.0 in /usr/local/lib/python3.10/dist-packages (from pennylane) (1.26.4)\n",
            "Requirement already satisfied: scipy in /usr/local/lib/python3.10/dist-packages (from pennylane) (1.13.1)\n",
            "Requirement already satisfied: networkx in /usr/local/lib/python3.10/dist-packages (from pennylane) (3.4)\n",
            "Requirement already satisfied: rustworkx>=0.14.0 in /usr/local/lib/python3.10/dist-packages (from pennylane) (0.15.1)\n",
            "Requirement already satisfied: autograd in /usr/local/lib/python3.10/dist-packages (from pennylane) (1.7.0)\n",
            "Requirement already satisfied: toml in /usr/local/lib/python3.10/dist-packages (from pennylane) (0.10.2)\n",
            "Requirement already satisfied: appdirs in /usr/local/lib/python3.10/dist-packages (from pennylane) (1.4.4)\n",
            "Requirement already satisfied: autoray>=0.6.11 in /usr/local/lib/python3.10/dist-packages (from pennylane) (0.6.12)\n",
            "Requirement already satisfied: cachetools in /usr/local/lib/python3.10/dist-packages (from pennylane) (5.5.0)\n",
            "Requirement already satisfied: pennylane-lightning>=0.38 in /usr/local/lib/python3.10/dist-packages (from pennylane) (0.38.0)\n",
            "Requirement already satisfied: requests in /usr/local/lib/python3.10/dist-packages (from pennylane) (2.32.3)\n",
            "Requirement already satisfied: typing-extensions in /usr/local/lib/python3.10/dist-packages (from pennylane) (4.12.2)\n",
            "Requirement already satisfied: packaging in /usr/local/lib/python3.10/dist-packages (from pennylane) (24.1)\n",
            "Requirement already satisfied: charset-normalizer<4,>=2 in /usr/local/lib/python3.10/dist-packages (from requests->pennylane) (3.4.0)\n",
            "Requirement already satisfied: idna<4,>=2.5 in /usr/local/lib/python3.10/dist-packages (from requests->pennylane) (3.10)\n",
            "Requirement already satisfied: urllib3<3,>=1.21.1 in /usr/local/lib/python3.10/dist-packages (from requests->pennylane) (2.2.3)\n",
            "Requirement already satisfied: certifi>=2017.4.17 in /usr/local/lib/python3.10/dist-packages (from requests->pennylane) (2024.8.30)\n"
          ]
        }
      ]
    },
    {
      "cell_type": "code",
      "source": [
        "# Import required libraries\n",
        "import pennylane as qml\n",
        "from pennylane import numpy as pnp"
      ],
      "metadata": {
        "id": "TwtSi9vu38OA"
      },
      "execution_count": 23,
      "outputs": []
    },
    {
      "cell_type": "code",
      "source": [
        "qubits = 4 # Corresponds to the N = 4 sites\n",
        "\n",
        "# Define the hamiltonian H\n",
        "\n",
        "def Hamiltonian(h):\n",
        "  N = 4 # Number of sites\n",
        "\n",
        "  # First sum of Z gates\n",
        "  op1 = 0\n",
        "  for i in range(N):\n",
        "    # Z(4) = Z(0), since it's a closed chain with N = 4, so we use (i+1)%N:\n",
        "    op1 += qml.PauliZ(i) @ qml.PauliZ((i+1)%N)\n",
        "\n",
        "  # Second sum of X gates\n",
        "  op2 = 0\n",
        "  for i in range(qubits):\n",
        "    op2 += qml.PauliX(i)\n",
        "\n",
        "  # The final hamiltonian\n",
        "  coeffs = [-1, -h]\n",
        "  obs = [op1, op2]\n",
        "  return qml.Hamiltonian(coeffs, obs)\n",
        "\n",
        "###################################################\n",
        "\n",
        "# Define the device\n",
        "dev = qml.device(\"default.qubit\", wires=qubits)\n",
        "\n",
        "# Build the VQE circuit:\n",
        "\n",
        "def ansatz(theta):\n",
        "  for i in range(qubits): qml.RY(theta[i] , wires = i)\n",
        "  # Apply RY gates to all qubits\n",
        "\n",
        "@qml.qnode(dev)\n",
        "def cost_function(params, hamiltonian):\n",
        "  ansatz(params)\n",
        "  return qml.expval(hamiltonian)\n",
        "\n",
        "########################################################\n",
        "\n",
        "# Random theta\n",
        "\n",
        "'''\n",
        "Here we've defined a random array as our initial parameters for the\n",
        "ansatz circuit, in order to test it. We're leaving it here, since we\n",
        "are going to use it below to show some results.'''\n",
        "\n",
        "import random\n",
        "\n",
        "#Choose an initial parameter for the variation circuit\n",
        "def Theta():\n",
        "  theta = pnp.array([pnp.pi * random.random(), pnp.pi * random.random(), pnp.pi * random.random(), pnp.pi * random.random()])\n",
        "  return theta\n",
        "\n",
        "#########################################################\n",
        "\n",
        "# Optimizing\n",
        "\n",
        "def Optimize(initial_theta, h):\n",
        "\n",
        "  H = Hamiltonian(h)\n",
        "\n",
        "  # Choose an optimizer\n",
        "  if abs(h) <= 1: opt = qml.GradientDescentOptimizer(stepsize=0.5)\n",
        "  else: opt = qml.GradientDescentOptimizer(stepsize=1/abs(h))\n",
        "\n",
        "  # Store the values of the cost function\n",
        "  energy = [cost_function(initial_theta, H)]\n",
        "\n",
        "  # Store the values of the circuit parameter\n",
        "  angle = [initial_theta]\n",
        "\n",
        "  max_interations = 1000\n",
        "  conv_tol = 1e-06\n",
        "\n",
        "  theta = initial_theta\n",
        "\n",
        "  #Repetition of optimization until convergence\n",
        "  for n in range(max_interations):\n",
        "\n",
        "      theta, prev_energy = opt.step_and_cost((lambda theta: cost_function(theta, hamiltonian = H)), theta)\n",
        "      # The lambda function was used because we have defined our cost_function\n",
        "      # with the a hamiltonian as a parameter as well. This was done, so we could\n",
        "      # define a unique function that returns the ground state, given a value of h.\n",
        "\n",
        "      energy.append(cost_function(theta, H))\n",
        "      angle.append(theta)\n",
        "      # Store the new values\n",
        "\n",
        "      conv = pnp.abs(energy[-1] - prev_energy)\n",
        "      # Test the convergence of the new result\n",
        "\n",
        "      if conv <= conv_tol: break\n",
        "\n",
        "  return([energy[-1], len(energy)-1])\n",
        "  # We return these, so we could print the informations with more details."
      ],
      "metadata": {
        "id": "L6YBuewS2Rv0"
      },
      "execution_count": 24,
      "outputs": []
    },
    {
      "cell_type": "markdown",
      "source": [
        "Testing the function for different values of $h$:"
      ],
      "metadata": {
        "id": "rwGxdW5yRp2S"
      }
    },
    {
      "cell_type": "code",
      "source": [
        "for h in [0,0.5,1,10,100, 1000]: # Value of transverse magnetic field h\n",
        "\n",
        "  initial_theta = Theta()\n",
        "  # We're using random initial parameters, but for no special reasons\n",
        "\n",
        "  answer = Optimize(initial_theta, h)\n",
        "\n",
        "  print(f\"h = {h}: Final value of the ground-state energy = {answer[0]}\")\n",
        "  print(f\"For initial theta: {initial_theta} and {answer[1]} interations\\n\")"
      ],
      "metadata": {
        "colab": {
          "base_uri": "https://localhost:8080/"
        },
        "id": "HEqp7JgwRVQr",
        "outputId": "2de89b5d-ffba-47f1-bb20-01cdd3f1c567"
      },
      "execution_count": 25,
      "outputs": [
        {
          "output_type": "stream",
          "name": "stdout",
          "text": [
            "h = 0: Final value of the ground-state energy = -4.0\n",
            "For initial theta: [2.02456392 1.19830506 2.14864612 1.92788275] and 6 interations\n",
            "\n",
            "h = 0.5: Final value of the ground-state energy = -4.249999998794217\n",
            "For initial theta: [2.67035832 1.94315485 2.68889363 0.51170598] and 7 interations\n",
            "\n",
            "h = 1: Final value of the ground-state energy = -4.999999991094356\n",
            "For initial theta: [2.46128909 2.01971342 0.8193877  1.9740637 ] and 11 interations\n",
            "\n",
            "h = 10: Final value of the ground-state energy = -39.999999992427554\n",
            "For initial theta: [0.10995364 1.77344961 0.18356919 1.96749446] and 7 interations\n",
            "\n",
            "h = 100: Final value of the ground-state energy = -399.999999999779\n",
            "For initial theta: [2.09621066 1.40058425 2.37179534 2.74725097] and 4 interations\n",
            "\n",
            "h = 1000: Final value of the ground-state energy = -3999.9999999999955\n",
            "For initial theta: [0.09700556 0.30908389 2.50216235 2.58074816] and 4 interations\n",
            "\n"
          ]
        }
      ]
    },
    {
      "cell_type": "markdown",
      "source": [
        "# **\\(2\\) [Challenge] (c)**\n",
        "**Ground state energy for molecule and spin system with Variational Quantum Algorithms and Trotterization**"
      ],
      "metadata": {
        "id": "zCsRVqBJGhDN"
      }
    },
    {
      "cell_type": "markdown",
      "source": [
        "Unitary evolution of a quantum system:\n",
        "$$U(t)=\\exp{[-iHt]}$$\n",
        "Trotterization method:\n",
        "$$H=\\displaystyle\\sum_{i=1}^k {H_i} \\Rightarrow U(t) \\approx \\prod_{j=1}^n \\prod_{i=1}^k \\exp{\\left(-\\dfrac{iH_it}{n}\\right) }$$\n",
        "For the Hamiltonian:\n",
        "$$H=\\alpha X\\otimes X +\\beta Z\\otimes Z$$\n",
        "in the state |00>.\n",
        "\n"
      ],
      "metadata": {
        "id": "TUNag1QMGnxV"
      }
    },
    {
      "cell_type": "markdown",
      "source": [
        "In this case, applying Trotterization means the following:\n",
        "$$H=\\displaystyle\\alpha X\\otimes X +\\beta Z\\otimes Z$$\n",
        "$$\\Rightarrow U(t) \\approx \\prod_{j=1}^n \\exp{\\left(-\\dfrac{i\\alpha X\\otimes Xt}{n}\\right)} \\exp{\\left(-\\dfrac{i\\beta Z\\otimes Zt}{n}\\right)}$$"
      ],
      "metadata": {
        "id": "Im1p5-utL1fv"
      }
    },
    {
      "cell_type": "code",
      "source": [
        "# Installing required libraries\n",
        "!pip install pennylane"
      ],
      "metadata": {
        "id": "VMAjDorTNtSq",
        "colab": {
          "base_uri": "https://localhost:8080/"
        },
        "outputId": "1eff54c5-8f53-498f-d772-169b279fcbaa"
      },
      "execution_count": 26,
      "outputs": [
        {
          "output_type": "stream",
          "name": "stdout",
          "text": [
            "Requirement already satisfied: pennylane in /usr/local/lib/python3.10/dist-packages (0.38.0)\n",
            "Requirement already satisfied: numpy<2.0 in /usr/local/lib/python3.10/dist-packages (from pennylane) (1.26.4)\n",
            "Requirement already satisfied: scipy in /usr/local/lib/python3.10/dist-packages (from pennylane) (1.13.1)\n",
            "Requirement already satisfied: networkx in /usr/local/lib/python3.10/dist-packages (from pennylane) (3.4)\n",
            "Requirement already satisfied: rustworkx>=0.14.0 in /usr/local/lib/python3.10/dist-packages (from pennylane) (0.15.1)\n",
            "Requirement already satisfied: autograd in /usr/local/lib/python3.10/dist-packages (from pennylane) (1.7.0)\n",
            "Requirement already satisfied: toml in /usr/local/lib/python3.10/dist-packages (from pennylane) (0.10.2)\n",
            "Requirement already satisfied: appdirs in /usr/local/lib/python3.10/dist-packages (from pennylane) (1.4.4)\n",
            "Requirement already satisfied: autoray>=0.6.11 in /usr/local/lib/python3.10/dist-packages (from pennylane) (0.6.12)\n",
            "Requirement already satisfied: cachetools in /usr/local/lib/python3.10/dist-packages (from pennylane) (5.5.0)\n",
            "Requirement already satisfied: pennylane-lightning>=0.38 in /usr/local/lib/python3.10/dist-packages (from pennylane) (0.38.0)\n",
            "Requirement already satisfied: requests in /usr/local/lib/python3.10/dist-packages (from pennylane) (2.32.3)\n",
            "Requirement already satisfied: typing-extensions in /usr/local/lib/python3.10/dist-packages (from pennylane) (4.12.2)\n",
            "Requirement already satisfied: packaging in /usr/local/lib/python3.10/dist-packages (from pennylane) (24.1)\n",
            "Requirement already satisfied: charset-normalizer<4,>=2 in /usr/local/lib/python3.10/dist-packages (from requests->pennylane) (3.4.0)\n",
            "Requirement already satisfied: idna<4,>=2.5 in /usr/local/lib/python3.10/dist-packages (from requests->pennylane) (3.10)\n",
            "Requirement already satisfied: urllib3<3,>=1.21.1 in /usr/local/lib/python3.10/dist-packages (from requests->pennylane) (2.2.3)\n",
            "Requirement already satisfied: certifi>=2017.4.17 in /usr/local/lib/python3.10/dist-packages (from requests->pennylane) (2024.8.30)\n"
          ]
        }
      ]
    },
    {
      "cell_type": "code",
      "source": [
        "# Import required libraries\n",
        "import pennylane as qml\n",
        "from pennylane import numpy as pnp"
      ],
      "metadata": {
        "id": "P5iIYgxuNtSr"
      },
      "execution_count": 27,
      "outputs": []
    },
    {
      "cell_type": "code",
      "source": [
        "# Firstly, defining the operator from the hamiltonian\n",
        "h1 = qml.PauliX(0) @ qml.PauliX(1)\n",
        "h2 = qml.PauliZ(0) @ qml.PauliZ(1)\n",
        "\n",
        "# Define the device\n",
        "dev = qml.device(\"default.qubit\", wires = 2)\n",
        "\n",
        "# Build the circuit of the Trotterizaton method:\n",
        "@qml.qnode(dev)\n",
        "def circuit(alpha, beta, t, n):\n",
        "  for i in range(n):\n",
        "    exp1 = qml.exp(h1, coeff = -1j*alpha*t/n) # exp for H1\n",
        "    exp2 = qml.exp(h2, coeff = -1j*beta*t/n) # exp for H2\n",
        "  return qml.state() # Return the state for calculating the probabilities\n",
        "\n",
        "# Function that receives the input from the problem and return the probabilities of measurements (+ extra infos)\n",
        "def prob_by_trotter(alpha, beta, t, n):\n",
        "  c = circuit(alpha, beta, t, n) # Applies the circuit to the initial state\n",
        "  prob = [float(pnp.absolute(a)**2) for a in c] # Calculates the probabilities\n",
        "  print(f\"For t = {t} and n = {n}, the final state is:\\n\")\n",
        "  print(f\"({c[0]:.2f})|00> + ({c[1]:.2f})|01> + ({c[2]:.2f})|10> + ({c[3]:.2f})|11>\\n\")\n",
        "  print(f\"And the probabilities of measuring each basis state is:\\n\")\n",
        "  print(f\"P(00): {prob[0]:.2f},\\nP(01): {prob[1]:.2f},\\nP(10): {prob[2]:.2f},\\nP(11): {prob[3]:.2f}.\\n\")\n",
        "  print(f\"The circuit of the Trotterization is as the following:\\n\")\n",
        "  print(qml.draw_mpl(circuit)(alpha, beta, t, n))\n",
        "  return prob # Return the probabilities in case you want to use them"
      ],
      "metadata": {
        "id": "4G4jP0cINu3T"
      },
      "execution_count": 28,
      "outputs": []
    },
    {
      "cell_type": "markdown",
      "source": [
        "Testing it for the following values of $\\alpha$, $\\beta$, $t$ and $n$:"
      ],
      "metadata": {
        "id": "KCL-JDkkSSiP"
      }
    },
    {
      "cell_type": "code",
      "source": [
        "# An example\n",
        "prob_by_trotter(5,70,1,1)"
      ],
      "metadata": {
        "colab": {
          "base_uri": "https://localhost:8080/",
          "height": 609
        },
        "id": "E2c2C2FwSRb5",
        "outputId": "269f0b81-38f6-4400-9a20-b5b776b0d999"
      },
      "execution_count": 29,
      "outputs": [
        {
          "output_type": "stream",
          "name": "stdout",
          "text": [
            "For t = 1 and n = 1, the final state is:\n",
            "\n",
            "(0.18-0.22j)|00> + (0.00+0.00j)|01> + (0.00+0.00j)|10> + (0.74+0.61j)|11>\n",
            "\n",
            "And the probabilities of measuring each basis state is:\n",
            "\n",
            "P(00): 0.08,\n",
            "P(01): 0.00,\n",
            "P(10): 0.00,\n",
            "P(11): 0.92.\n",
            "\n",
            "The circuit of the Trotterization is as the following:\n",
            "\n",
            "(<Figure size 500x300 with 1 Axes>, <Axes: >)\n"
          ]
        },
        {
          "output_type": "execute_result",
          "data": {
            "text/plain": [
              "[0.08046423546177364, 0.0, 0.0, 0.9195357645382259]"
            ]
          },
          "metadata": {},
          "execution_count": 29
        },
        {
          "output_type": "display_data",
          "data": {
            "text/plain": [
              "<Figure size 500x300 with 1 Axes>"
            ],
            "image/png": "[encoded data removed]"
          },
          "metadata": {}
        }
      ]
    },
    {
      "cell_type": "markdown",
      "source": [
        "Extra plot out of curiosity: Ploting the probabilities of measuring $|00⟩$ and $|11⟩$ in function of time, as they are the only non-zero probabilities."
      ],
      "metadata": {
        "id": "OSc7OMyhpXI-"
      }
    },
    {
      "cell_type": "code",
      "source": [
        "import matplotlib.pyplot as plt\n",
        "\n",
        "import pennylane as qml\n",
        "from pennylane import numpy as pnp\n",
        "\n",
        "# Ploting the probabilities of measuring |00> and |11> in function of time\n",
        "\n",
        "fig = plt.figure()\n",
        "fig.set_figheight(5)\n",
        "fig.set_figwidth(12)\n",
        "\n",
        "T = pnp.linspace(0,5,100)\n",
        "\n",
        "# Formimng lists with the desired probabilities\n",
        "Prob00 = []\n",
        "Prob11 = []\n",
        "ProbT = [] # To see that they really sum up to 1\n",
        "for t in T:\n",
        "  c = circuit(1, 1, t, 10)\n",
        "  p00 = float(pnp.absolute(c[0])**2)\n",
        "  p11 = float(pnp.absolute(c[3])**2)\n",
        "  Prob00.append(p00)\n",
        "  Prob11.append(p11)\n",
        "  ProbT.append(p00+p11)\n",
        "\n",
        "# Ploting each of the list above in function of time\n",
        "ax1 = fig.add_subplot(121)\n",
        "ax1.plot(T, Prob00)\n",
        "ax1.plot(T, Prob11)\n",
        "ax1.plot(T, ProbT)\n",
        "ax1.set_xlabel(\"t\", fontsize=13)\n",
        "ax1.set_ylabel(\"Probabilities\", fontsize=13)\n",
        "plt.xticks(fontsize=12)\n",
        "plt.yticks(fontsize=12)\n",
        "plt.legend((\"P(00)\", \"P(11)\", \"Sum\"), title='Caption')\n",
        "\n",
        "#plt.subplots_adjust(wspace=0.3, bottom=0.2)\n",
        "plt.show()"
      ],
      "metadata": {
        "colab": {
          "base_uri": "https://localhost:8080/",
          "height": 473
        },
        "id": "3CY6eJGbeFqP",
        "outputId": "18debac5-9000-4d99-c896-4cb8a0f1ae38"
      },
      "execution_count": 30,
      "outputs": [
        {
          "output_type": "display_data",
          "data": {
            "text/plain": [
              "<Figure size 1200x500 with 1 Axes>"
            ],
            "image/png": "[encoded data removed]"
          },
          "metadata": {}
        }
      ]
    }
  ]
}